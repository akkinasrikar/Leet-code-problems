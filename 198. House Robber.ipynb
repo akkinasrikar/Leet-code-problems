{
 "cells": [
  {
   "cell_type": "code",
   "execution_count": 1,
   "id": "3273fa09",
   "metadata": {},
   "outputs": [],
   "source": [
    "class Solution:\n",
    "    def rob(self, nums):\n",
    "        if len(nums)==0:\n",
    "            return 0\n",
    "        if len(nums)==1:\n",
    "            return nums[0]\n",
    "        if len(nums)==2:\n",
    "            return max(nums)\n",
    "        table=[0]*len(nums)\n",
    "        table[0]=nums[0]\n",
    "        table[1]=max(nums[0],nums[1])\n",
    "        #print(table)\n",
    "        for i in range(2,len(nums)):\n",
    "            table[i]=max(table[i-2]+nums[i],table[i-1])\n",
    "            #print(table)\n",
    "        return table[-1]"
   ]
  },
  {
   "cell_type": "code",
   "execution_count": 2,
   "id": "7d2f7d78",
   "metadata": {},
   "outputs": [],
   "source": [
    "s=Solution()"
   ]
  },
  {
   "cell_type": "code",
   "execution_count": 3,
   "id": "339b46b3",
   "metadata": {},
   "outputs": [
    {
     "data": {
      "text/plain": [
       "4"
      ]
     },
     "execution_count": 3,
     "metadata": {},
     "output_type": "execute_result"
    }
   ],
   "source": [
    "s.rob([2,1,1,2])"
   ]
  },
  {
   "cell_type": "code",
   "execution_count": 4,
   "id": "6f9bda0c",
   "metadata": {},
   "outputs": [],
   "source": [
    "#https://www.geeksforgeeks.org/tabulation-vs-memoization/"
   ]
  },
  {
   "cell_type": "code",
   "execution_count": null,
   "id": "df6731bf",
   "metadata": {},
   "outputs": [],
   "source": []
  }
 ],
 "metadata": {
  "kernelspec": {
   "display_name": "Python 3",
   "language": "python",
   "name": "python3"
  },
  "language_info": {
   "codemirror_mode": {
    "name": "ipython",
    "version": 3
   },
   "file_extension": ".py",
   "mimetype": "text/x-python",
   "name": "python",
   "nbconvert_exporter": "python",
   "pygments_lexer": "ipython3",
   "version": "3.7.10"
  }
 },
 "nbformat": 4,
 "nbformat_minor": 5
}
