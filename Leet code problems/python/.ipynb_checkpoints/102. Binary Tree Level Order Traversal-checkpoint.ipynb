{
 "cells": [
  {
   "cell_type": "code",
   "execution_count": 2,
   "metadata": {},
   "outputs": [],
   "source": [
    "class TreeNode(object):\n",
    "    def __init__(self, val=0, left=None, right=None):\n",
    "            self.val = val\n",
    "            self.left = left\n",
    "            self.right = right"
   ]
  },
  {
   "cell_type": "code",
   "execution_count": 60,
   "metadata": {},
   "outputs": [],
   "source": [
    "class Solution:\n",
    "    \n",
    "    def __init__(self):\n",
    "        self.l=[]\n",
    "    def levelOrder(self, root):\n",
    "        h=self.maxDepth(root)\n",
    "        for i in range(1,h+1):\n",
    "            self.l.append(self.getvalues(root,i))\n",
    "        return self.l\n",
    "    def getvalues(self,root,level,lst=None):\n",
    "        if root is None:\n",
    "            return\n",
    "        if lst==None:\n",
    "            lst=[]\n",
    "        if level == 1:\n",
    "            lst.append(root.val)\n",
    "        elif level > 1 :\n",
    "            self.getvalues(root.left , level-1,lst)\n",
    "            self.getvalues(root.right , level-1,lst)\n",
    "        return lst\n",
    "    def maxDepth(self,root):\n",
    "        return 1+max(map(self.maxDepth,(root.left,root.right))) if root else 0    "
   ]
  },
  {
   "cell_type": "code",
   "execution_count": 64,
   "metadata": {},
   "outputs": [],
   "source": [
    "root=TreeNode(5)\n",
    "root.left=TreeNode(4)\n",
    "root.right=TreeNode(8)\n",
    "root.left.left=TreeNode(11)\n",
    "root.left.left.left=TreeNode(7)\n",
    "root.left.left.right=TreeNode(2)\n",
    "root.right.left=TreeNode(13)\n",
    "root.right.right=TreeNode(4)\n",
    "root.right.right.right=TreeNode(1)"
   ]
  },
  {
   "cell_type": "code",
   "execution_count": 65,
   "metadata": {},
   "outputs": [],
   "source": [
    "tree=Solution()"
   ]
  },
  {
   "cell_type": "code",
   "execution_count": 66,
   "metadata": {},
   "outputs": [
    {
     "data": {
      "text/plain": [
       "[[5], [4, 8], [11, 13, 4], [7, 2, 1]]"
      ]
     },
     "execution_count": 66,
     "metadata": {},
     "output_type": "execute_result"
    }
   ],
   "source": [
    "tree.levelOrder(root)"
   ]
  },
  {
   "cell_type": "code",
   "execution_count": 68,
   "metadata": {},
   "outputs": [],
   "source": [
    "class Solution:\n",
    "    \n",
    "      def levelOrder(self, root):\n",
    "            values,level=[],[root]\n",
    "            while root and level:\n",
    "                values.append([node.val for node in level])\n",
    "                LRpair=[(node.left,node.right) for node in level]\n",
    "                level=[leaf for lr in LRpair for leaf in lr if leaf]\n",
    "            return values"
   ]
  },
  {
   "cell_type": "code",
   "execution_count": 69,
   "metadata": {},
   "outputs": [],
   "source": [
    "root=TreeNode(5)\n",
    "root.left=TreeNode(4)\n",
    "root.right=TreeNode(8)\n",
    "root.left.left=TreeNode(11)\n",
    "root.left.left.left=TreeNode(7)\n",
    "root.left.left.right=TreeNode(2)\n",
    "root.right.left=TreeNode(13)\n",
    "root.right.right=TreeNode(4)\n",
    "root.right.right.right=TreeNode(1)"
   ]
  },
  {
   "cell_type": "code",
   "execution_count": 70,
   "metadata": {},
   "outputs": [],
   "source": [
    "tree=Solution()"
   ]
  },
  {
   "cell_type": "code",
   "execution_count": 71,
   "metadata": {},
   "outputs": [
    {
     "data": {
      "text/plain": [
       "[[5], [4, 8], [11, 13, 4], [7, 2, 1]]"
      ]
     },
     "execution_count": 71,
     "metadata": {},
     "output_type": "execute_result"
    }
   ],
   "source": [
    "tree.levelOrder(root)"
   ]
  },
  {
   "cell_type": "code",
   "execution_count": null,
   "metadata": {},
   "outputs": [],
   "source": []
  }
 ],
 "metadata": {
  "kernelspec": {
   "display_name": "Python 3",
   "language": "python",
   "name": "python3"
  },
  "language_info": {
   "codemirror_mode": {
    "name": "ipython",
    "version": 3
   },
   "file_extension": ".py",
   "mimetype": "text/x-python",
   "name": "python",
   "nbconvert_exporter": "python",
   "pygments_lexer": "ipython3",
   "version": "3.7.3"
  }
 },
 "nbformat": 4,
 "nbformat_minor": 2
}
