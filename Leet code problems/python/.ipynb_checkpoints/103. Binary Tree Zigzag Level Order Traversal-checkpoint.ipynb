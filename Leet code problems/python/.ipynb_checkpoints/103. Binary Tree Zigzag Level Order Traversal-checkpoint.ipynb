{
 "cells": [
  {
   "cell_type": "code",
   "execution_count": 3,
   "metadata": {},
   "outputs": [],
   "source": [
    "class TreeNode(object):\n",
    "    def __init__(self, val=0, left=None, right=None):\n",
    "            self.val = val\n",
    "            self.left = left\n",
    "            self.right = right"
   ]
  },
  {
   "cell_type": "code",
   "execution_count": 4,
   "metadata": {},
   "outputs": [],
   "source": [
    "class Solution:\n",
    "    \n",
    "      def zigzagLevelOrder(self, root):\n",
    "            values,level=[],[root]\n",
    "            l=1\n",
    "            while root and level:\n",
    "                if l%2!=0:\n",
    "                    values.append([node.val for node in level])\n",
    "                else:\n",
    "                    z=[node.val for node in level]\n",
    "                    z.reverse()\n",
    "                    values.append(z)\n",
    "                LRpair=[(node.left,node.right) for node in level]\n",
    "                level=[leaf for lr in LRpair for leaf in lr if leaf]\n",
    "                l+=1\n",
    "            return values"
   ]
  },
  {
   "cell_type": "code",
   "execution_count": 5,
   "metadata": {},
   "outputs": [],
   "source": [
    "root=TreeNode(5)\n",
    "root.left=TreeNode(4)\n",
    "root.right=TreeNode(8)\n",
    "root.left.left=TreeNode(11)\n",
    "root.left.left.left=TreeNode(7)\n",
    "root.left.left.right=TreeNode(2)\n",
    "root.right.left=TreeNode(13)\n",
    "root.right.right=TreeNode(4)\n",
    "root.right.right.right=TreeNode(1)"
   ]
  },
  {
   "cell_type": "code",
   "execution_count": 6,
   "metadata": {},
   "outputs": [],
   "source": [
    "tree=Solution()"
   ]
  },
  {
   "cell_type": "code",
   "execution_count": 7,
   "metadata": {},
   "outputs": [
    {
     "data": {
      "text/plain": [
       "[[5], [8, 4], [11, 13, 4], [1, 2, 7]]"
      ]
     },
     "execution_count": 7,
     "metadata": {},
     "output_type": "execute_result"
    }
   ],
   "source": [
    "tree.zigzagLevelOrder(root)"
   ]
  },
  {
   "cell_type": "code",
   "execution_count": null,
   "metadata": {},
   "outputs": [],
   "source": []
  }
 ],
 "metadata": {
  "kernelspec": {
   "display_name": "Python 3",
   "language": "python",
   "name": "python3"
  },
  "language_info": {
   "codemirror_mode": {
    "name": "ipython",
    "version": 3
   },
   "file_extension": ".py",
   "mimetype": "text/x-python",
   "name": "python",
   "nbconvert_exporter": "python",
   "pygments_lexer": "ipython3",
   "version": "3.7.3"
  }
 },
 "nbformat": 4,
 "nbformat_minor": 2
}
