{
 "cells": [
  {
   "cell_type": "code",
   "execution_count": 22,
   "metadata": {},
   "outputs": [],
   "source": [
    "class TreeNode(object):\n",
    "    def __init__(self, val=0, left=None, right=None):\n",
    "            self.val = val\n",
    "            self.left = left\n",
    "            self.right = right"
   ]
  },
  {
   "cell_type": "code",
   "execution_count": 27,
   "metadata": {},
   "outputs": [],
   "source": [
    "class Solution:\n",
    "    \n",
    "    def minDepth(self,node):\n",
    "        if node is None:\n",
    "            return 0\n",
    "        if node.left is None and node.right is None:\n",
    "            return 1\n",
    "        if node.left is None:\n",
    "            return self.minDepth(node.right)+1\n",
    "        if node.right is None:\n",
    "            return self.minDepth(node.left)+1\n",
    "        return min(self.minDepth(node.left),self.minDepth(node.right))+1"
   ]
  },
  {
   "cell_type": "code",
   "execution_count": 28,
   "metadata": {},
   "outputs": [],
   "source": [
    "root=TreeNode(5)\n",
    "root.left=TreeNode(4)\n",
    "root.right=TreeNode(8)\n",
    "root.left.left=TreeNode(11)\n",
    "root.left.left.left=TreeNode(7)\n",
    "root.left.left.right=TreeNode(2)\n",
    "root.right.left=TreeNode(13)\n",
    "root.right.right=TreeNode(4)\n",
    "root.right.right.right=TreeNode(1)"
   ]
  },
  {
   "cell_type": "code",
   "execution_count": 29,
   "metadata": {},
   "outputs": [],
   "source": [
    "tree=Solution()"
   ]
  },
  {
   "cell_type": "code",
   "execution_count": 30,
   "metadata": {},
   "outputs": [
    {
     "data": {
      "text/plain": [
       "3"
      ]
     },
     "execution_count": 30,
     "metadata": {},
     "output_type": "execute_result"
    }
   ],
   "source": [
    "tree.minDepth(root)"
   ]
  },
  {
   "cell_type": "markdown",
   "metadata": {},
   "source": [
    "# Other solution"
   ]
  },
  {
   "cell_type": "code",
   "execution_count": 36,
   "metadata": {},
   "outputs": [],
   "source": [
    "class Solution:\n",
    "    \n",
    "    def minDepth(self,node):\n",
    "        if not root:\n",
    "            return 0\n",
    "        l=[node]\n",
    "        n=[1]\n",
    "        while l:\n",
    "            temp=l.pop(0)\n",
    "            d=n.pop(0)\n",
    "            if temp.left is None and temp.right is None:\n",
    "                return d\n",
    "            if temp.left:\n",
    "                l.append(temp.left)\n",
    "                n.append(d+1)\n",
    "            if temp.right:\n",
    "                l.append(temp.right)\n",
    "                n.append(d+1)\n",
    "        return n"
   ]
  },
  {
   "cell_type": "code",
   "execution_count": 37,
   "metadata": {},
   "outputs": [],
   "source": [
    "root=TreeNode(5)\n",
    "root.left=TreeNode(4)\n",
    "root.right=TreeNode(8)\n",
    "root.left.left=TreeNode(11)\n",
    "root.left.left.left=TreeNode(7)\n",
    "root.left.left.right=TreeNode(2)\n",
    "root.right.left=TreeNode(13)\n",
    "root.right.right=TreeNode(4)\n",
    "root.right.right.right=TreeNode(1)"
   ]
  },
  {
   "cell_type": "code",
   "execution_count": 38,
   "metadata": {},
   "outputs": [],
   "source": [
    "tree=Solution()"
   ]
  },
  {
   "cell_type": "code",
   "execution_count": 39,
   "metadata": {},
   "outputs": [
    {
     "data": {
      "text/plain": [
       "3"
      ]
     },
     "execution_count": 39,
     "metadata": {},
     "output_type": "execute_result"
    }
   ],
   "source": [
    "tree.minDepth(root)"
   ]
  },
  {
   "cell_type": "code",
   "execution_count": null,
   "metadata": {},
   "outputs": [],
   "source": []
  }
 ],
 "metadata": {
  "kernelspec": {
   "display_name": "Python 3",
   "language": "python",
   "name": "python3"
  },
  "language_info": {
   "codemirror_mode": {
    "name": "ipython",
    "version": 3
   },
   "file_extension": ".py",
   "mimetype": "text/x-python",
   "name": "python",
   "nbconvert_exporter": "python",
   "pygments_lexer": "ipython3",
   "version": "3.7.3"
  }
 },
 "nbformat": 4,
 "nbformat_minor": 2
}
