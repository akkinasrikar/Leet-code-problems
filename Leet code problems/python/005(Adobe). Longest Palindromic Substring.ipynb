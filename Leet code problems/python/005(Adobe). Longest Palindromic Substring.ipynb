{
 "cells": [
  {
   "cell_type": "code",
   "execution_count": 74,
   "id": "22d3a087",
   "metadata": {},
   "outputs": [],
   "source": [
    "class Solution:\n",
    "    def longestPalindrome(self, s):\n",
    "        start,end,res=0,len(s),[]\n",
    "        if len(s)==1 or len(set(s))==1: return s\n",
    "        while True:\n",
    "            for i in range(start,end+1):\n",
    "                if s[i:end]==s[i:end][::-1]: res.append(s[i:end])\n",
    "            for i in range(end,-1,-1):\n",
    "                if s[start:i]==s[start:i][::-1]: res.append(s[start:i])\n",
    "            start,end=start+1,end-1\n",
    "            if start==len(s) and end==0: break\n",
    "        return max(res,key=len)\n",
    "# time complexity taking o(n^2) "
   ]
  },
  {
   "cell_type": "code",
   "execution_count": 75,
   "id": "c0533367",
   "metadata": {},
   "outputs": [],
   "source": [
    "s=Solution()"
   ]
  },
  {
   "cell_type": "code",
   "execution_count": 77,
   "id": "0c8e8721",
   "metadata": {},
   "outputs": [
    {
     "data": {
      "text/plain": [
       "'bab'"
      ]
     },
     "execution_count": 77,
     "metadata": {},
     "output_type": "execute_result"
    }
   ],
   "source": [
    "s.longestPalindrome(\"babad\")"
   ]
  },
  {
   "cell_type": "code",
   "execution_count": 84,
   "id": "5ab71016",
   "metadata": {},
   "outputs": [],
   "source": [
    "class Solution(object):\n",
    "    def longestPalindrome(self, s):\n",
    "        res = \"\"\n",
    "        for i in range(len(s)):\n",
    "            res = max(self.helper(s,i,i), self.helper(s,i,i+1), res, key=len)\n",
    "        return res\n",
    "    def helper(self,s,l,r):\n",
    "        while 0<=l and r < len(s) and s[l]==s[r]:\n",
    "                l-=1; r+=1\n",
    "        return s[l+1:r]"
   ]
  },
  {
   "cell_type": "code",
   "execution_count": 85,
   "id": "09d99f86",
   "metadata": {},
   "outputs": [],
   "source": [
    "nw=Solution()"
   ]
  },
  {
   "cell_type": "code",
   "execution_count": 86,
   "id": "4bfd4baa",
   "metadata": {},
   "outputs": [
    {
     "name": "stdout",
     "output_type": "stream",
     "text": [
      "0 0\n",
      "b\n",
      "0 1\n",
      "\n",
      "1 1\n",
      "bab\n",
      "1 2\n",
      "\n",
      "2 2\n",
      "aba\n",
      "2 3\n",
      "\n",
      "3 3\n",
      "a\n",
      "3 4\n",
      "\n",
      "4 4\n",
      "d\n",
      "4 5\n",
      "\n"
     ]
    },
    {
     "data": {
      "text/plain": [
       "'aba'"
      ]
     },
     "execution_count": 86,
     "metadata": {},
     "output_type": "execute_result"
    }
   ],
   "source": [
    "nw.longestPalindrome(\"babad\")"
   ]
  },
  {
   "cell_type": "code",
   "execution_count": null,
   "id": "c082e76b",
   "metadata": {},
   "outputs": [],
   "source": []
  }
 ],
 "metadata": {
  "kernelspec": {
   "display_name": "Python 3",
   "language": "python",
   "name": "python3"
  },
  "language_info": {
   "codemirror_mode": {
    "name": "ipython",
    "version": 3
   },
   "file_extension": ".py",
   "mimetype": "text/x-python",
   "name": "python",
   "nbconvert_exporter": "python",
   "pygments_lexer": "ipython3",
   "version": "3.8.8"
  }
 },
 "nbformat": 4,
 "nbformat_minor": 5
}
