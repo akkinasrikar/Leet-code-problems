{
 "cells": [
  {
   "cell_type": "code",
   "execution_count": 42,
   "id": "056036da",
   "metadata": {},
   "outputs": [],
   "source": [
    "class Solution:\n",
    "    def maxArea(self, height):\n",
    "        area=0\n",
    "        h1=height\n",
    "        h2=height[::-1]\n",
    "        l=len(height)\n",
    "        for i in range(l):\n",
    "            for j in range(i+1,l):\n",
    "                if h1[i]<=h1[j]:\n",
    "                    area=max(h1[i]*(j-i),area)\n",
    "                if h2[i]<=h2[j]:\n",
    "                    area=max(h2[i]*(j-i),area)\n",
    "        return area"
   ]
  },
  {
   "cell_type": "code",
   "execution_count": 43,
   "id": "2353e432",
   "metadata": {},
   "outputs": [],
   "source": [
    "s=Solution()"
   ]
  },
  {
   "cell_type": "code",
   "execution_count": 44,
   "id": "7da0a640",
   "metadata": {},
   "outputs": [
    {
     "data": {
      "text/plain": [
       "36"
      ]
     },
     "execution_count": 44,
     "metadata": {},
     "output_type": "execute_result"
    }
   ],
   "source": [
    "s.maxArea([6,2,5,4,5,1,6])"
   ]
  },
  {
   "cell_type": "code",
   "execution_count": 53,
   "id": "b0e3f3bf",
   "metadata": {},
   "outputs": [],
   "source": [
    "class Solution:\n",
    "    def maxArea(self, height):\n",
    "        area,l,r=0,0,len(height)-1\n",
    "        while l<r:\n",
    "            area=max(area,(r-l)*min(height[l],height[r]))\n",
    "            if height[l]<height[r]: l+=1\n",
    "            else: r-=1\n",
    "        return area"
   ]
  },
  {
   "cell_type": "code",
   "execution_count": 54,
   "id": "523a4ffc",
   "metadata": {},
   "outputs": [],
   "source": [
    "s=Solution()"
   ]
  },
  {
   "cell_type": "code",
   "execution_count": 55,
   "id": "655db817",
   "metadata": {},
   "outputs": [
    {
     "data": {
      "text/plain": [
       "49"
      ]
     },
     "execution_count": 55,
     "metadata": {},
     "output_type": "execute_result"
    }
   ],
   "source": [
    "s.maxArea([1,8,6,2,5,4,8,3,7])"
   ]
  },
  {
   "cell_type": "code",
   "execution_count": null,
   "id": "af31838d",
   "metadata": {},
   "outputs": [],
   "source": []
  }
 ],
 "metadata": {
  "kernelspec": {
   "display_name": "Python 3",
   "language": "python",
   "name": "python3"
  },
  "language_info": {
   "codemirror_mode": {
    "name": "ipython",
    "version": 3
   },
   "file_extension": ".py",
   "mimetype": "text/x-python",
   "name": "python",
   "nbconvert_exporter": "python",
   "pygments_lexer": "ipython3",
   "version": "3.7.10"
  }
 },
 "nbformat": 4,
 "nbformat_minor": 5
}
