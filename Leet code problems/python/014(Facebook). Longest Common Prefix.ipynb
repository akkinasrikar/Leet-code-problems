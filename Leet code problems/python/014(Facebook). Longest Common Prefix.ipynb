{
 "cells": [
  {
   "cell_type": "code",
   "execution_count": 1,
   "id": "37ad1efb",
   "metadata": {},
   "outputs": [],
   "source": [
    "class Solution:\n",
    "    def longestCommonPrefix(self, strs):\n",
    "        if len(strs)==1 or len(set(strs))==1:\n",
    "            return strs[0]\n",
    "        l=len(strs)\n",
    "        s,temp=1,[]\n",
    "        while True:\n",
    "            nw=[i[0:s] for i in strs]\n",
    "            if len(set(nw))==1:\n",
    "                s += 1\n",
    "                temp=nw\n",
    "                continue\n",
    "            else:\n",
    "                break\n",
    "        if temp==[]: return \"\"\n",
    "        return temp[0]"
   ]
  },
  {
   "cell_type": "code",
   "execution_count": 2,
   "id": "02cece89",
   "metadata": {},
   "outputs": [],
   "source": [
    "s=Solution()"
   ]
  },
  {
   "cell_type": "code",
   "execution_count": 3,
   "id": "a0af740c",
   "metadata": {},
   "outputs": [
    {
     "data": {
      "text/plain": [
       "''"
      ]
     },
     "execution_count": 3,
     "metadata": {},
     "output_type": "execute_result"
    }
   ],
   "source": [
    "s.longestCommonPrefix([\"dog\",\"racecar\",\"car\"])"
   ]
  },
  {
   "cell_type": "code",
   "execution_count": null,
   "id": "2da10745",
   "metadata": {},
   "outputs": [],
   "source": []
  }
 ],
 "metadata": {
  "kernelspec": {
   "display_name": "Python 3",
   "language": "python",
   "name": "python3"
  },
  "language_info": {
   "codemirror_mode": {
    "name": "ipython",
    "version": 3
   },
   "file_extension": ".py",
   "mimetype": "text/x-python",
   "name": "python",
   "nbconvert_exporter": "python",
   "pygments_lexer": "ipython3",
   "version": "3.7.10"
  }
 },
 "nbformat": 4,
 "nbformat_minor": 5
}
