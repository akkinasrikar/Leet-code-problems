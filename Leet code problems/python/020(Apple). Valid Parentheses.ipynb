{
 "cells": [
  {
   "cell_type": "code",
   "execution_count": 1,
   "id": "7b4bfa63",
   "metadata": {},
   "outputs": [],
   "source": [
    "class Solution:\n",
    "    def isValid(self, s):\n",
    "        l,r=\"([{\",\")]}\"\n",
    "        stack=[]\n",
    "        for i in s:\n",
    "            if i in l:\n",
    "                stack.append(r[l.index(i)])\n",
    "            else:\n",
    "                if len(stack)!=0:\n",
    "                    t=stack.pop()\n",
    "                    if i==t:\n",
    "                        continue\n",
    "                    else:\n",
    "                        return False\n",
    "                else: return False\n",
    "        if len(stack)!=0: return False\n",
    "        else: return True                "
   ]
  },
  {
   "cell_type": "code",
   "execution_count": 2,
   "id": "2c646183",
   "metadata": {},
   "outputs": [],
   "source": [
    "s=Solution()"
   ]
  },
  {
   "cell_type": "code",
   "execution_count": 3,
   "id": "227ad4e3",
   "metadata": {},
   "outputs": [
    {
     "data": {
      "text/plain": [
       "False"
      ]
     },
     "execution_count": 3,
     "metadata": {},
     "output_type": "execute_result"
    }
   ],
   "source": [
    "s.isValid(\"]]\")"
   ]
  },
  {
   "cell_type": "code",
   "execution_count": null,
   "id": "048d0c5c",
   "metadata": {},
   "outputs": [],
   "source": []
  }
 ],
 "metadata": {
  "kernelspec": {
   "display_name": "Python 3",
   "language": "python",
   "name": "python3"
  },
  "language_info": {
   "codemirror_mode": {
    "name": "ipython",
    "version": 3
   },
   "file_extension": ".py",
   "mimetype": "text/x-python",
   "name": "python",
   "nbconvert_exporter": "python",
   "pygments_lexer": "ipython3",
   "version": "3.7.10"
  }
 },
 "nbformat": 4,
 "nbformat_minor": 5
}
