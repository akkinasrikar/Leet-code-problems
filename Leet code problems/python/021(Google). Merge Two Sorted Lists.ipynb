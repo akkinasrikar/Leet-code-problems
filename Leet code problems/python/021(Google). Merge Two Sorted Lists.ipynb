{
 "cells": [
  {
   "cell_type": "code",
   "execution_count": 1,
   "id": "ab80b624",
   "metadata": {},
   "outputs": [],
   "source": [
    "# Definition for singly-linked list.\n",
    "# class ListNode:\n",
    "#     def __init__(self, val=0, next=None):\n",
    "#         self.val = val\n",
    "#         self.next = next\n",
    "class Solution:\n",
    "    def mergeTwoLists(self, l1,l2):\n",
    "        r1=self.get(l1)\n",
    "        r2=self.get(l2)\n",
    "        f=r1+r2\n",
    "        f=sorted(f)\n",
    "        if len(f)==0:\n",
    "            return None\n",
    "        if len(f)==1:\n",
    "            node=ListNode(f[0])\n",
    "            return node\n",
    "        temp=None\n",
    "        for i in f[::-1]:\n",
    "            node=ListNode(i)\n",
    "            node.next=temp\n",
    "            temp=node\n",
    "        return node\n",
    "    \n",
    "    def get(self,node):\n",
    "        res=[]\n",
    "        while node!=None:\n",
    "            res.append(node.val)\n",
    "            node=node.next\n",
    "        return res\n",
    "        "
   ]
  },
  {
   "cell_type": "code",
   "execution_count": null,
   "id": "3b42effc",
   "metadata": {},
   "outputs": [],
   "source": []
  }
 ],
 "metadata": {
  "kernelspec": {
   "display_name": "Python 3",
   "language": "python",
   "name": "python3"
  },
  "language_info": {
   "codemirror_mode": {
    "name": "ipython",
    "version": 3
   },
   "file_extension": ".py",
   "mimetype": "text/x-python",
   "name": "python",
   "nbconvert_exporter": "python",
   "pygments_lexer": "ipython3",
   "version": "3.7.10"
  }
 },
 "nbformat": 4,
 "nbformat_minor": 5
}
