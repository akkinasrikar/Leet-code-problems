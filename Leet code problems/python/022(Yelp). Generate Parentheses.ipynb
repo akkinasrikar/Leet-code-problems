{
 "cells": [
  {
   "cell_type": "code",
   "execution_count": 1,
   "metadata": {},
   "outputs": [],
   "source": [
    "import numpy as np\n",
    "class Solution:\n",
    "    def generateParenthesis(self, n):\n",
    "        if n==0: return []\n",
    "        gr=self.permute(n,[\"((\",\"()\",\"))\",\")(\"])\n",
    "        lt=[]\n",
    "        for i in gr:\n",
    "            if self.counter(i):\n",
    "                if self.check(i):\n",
    "                    lt.append(i)\n",
    "        return lt\n",
    "       \n",
    "    def check(self,string):\n",
    "        count=0\n",
    "        for i in string:\n",
    "            if i==\"(\": count+=1\n",
    "            elif i==\")\": count-=1\n",
    "            if count<0: return False\n",
    "        return count==0\n",
    "    def counter(self,st):\n",
    "        pr=np.array(list(st))\n",
    "        l1=np.where(pr==\"(\")\n",
    "        l2=np.where(pr==\")\")\n",
    "        return np.shape(l1)==np.shape(l2)\n",
    "    def permute(self,lt,s):\n",
    "        if lt==1:\n",
    "            return s\n",
    "        else:\n",
    "            return [y+x for y in self.permute(1,s) for x in self.permute(lt-1,s)]"
   ]
  },
  {
   "cell_type": "code",
   "execution_count": 2,
   "metadata": {},
   "outputs": [],
   "source": [
    "s=Solution()"
   ]
  },
  {
   "cell_type": "code",
   "execution_count": 3,
   "metadata": {},
   "outputs": [
    {
     "data": {
      "text/plain": [
       "['((()))', '(())()', '(()())', '()(())', '()()()']"
      ]
     },
     "execution_count": 3,
     "metadata": {},
     "output_type": "execute_result"
    }
   ],
   "source": [
    "s.generateParenthesis(3)"
   ]
  },
  {
   "cell_type": "code",
   "execution_count": 4,
   "metadata": {},
   "outputs": [],
   "source": [
    "def dfs(leftRemain, rightRemain, path, res):\n",
    "    print(leftRemain,rightRemain,path)\n",
    "    if leftRemain > rightRemain or leftRemain < 0 or rightRemain < 0:\n",
    "        return\n",
    "    if leftRemain == 0 and rightRemain == 0:\n",
    "        res.append(path)\n",
    "        return \n",
    "    \n",
    "    dfs(leftRemain-1, rightRemain, path+\"(\", res)\n",
    "    dfs(leftRemain, rightRemain-1, path+\")\", res)"
   ]
  },
  {
   "cell_type": "code",
   "execution_count": 5,
   "metadata": {},
   "outputs": [
    {
     "name": "stdout",
     "output_type": "stream",
     "text": [
      "2 2 \n",
      "1 2 (\n",
      "0 2 ((\n",
      "-1 2 (((\n",
      "0 1 (()\n",
      "-1 1 (()(\n",
      "0 0 (())\n",
      "1 1 ()\n",
      "0 1 ()(\n",
      "-1 1 ()((\n",
      "0 0 ()()\n",
      "1 0 ())\n",
      "2 1 )\n"
     ]
    }
   ],
   "source": [
    "res=[]\n",
    "dfs(2,2,\"\",res)"
   ]
  },
  {
   "cell_type": "code",
   "execution_count": 6,
   "metadata": {},
   "outputs": [
    {
     "data": {
      "text/plain": [
       "['(())', '()()']"
      ]
     },
     "execution_count": 6,
     "metadata": {},
     "output_type": "execute_result"
    }
   ],
   "source": [
    "res"
   ]
  },
  {
   "cell_type": "code",
   "execution_count": 7,
   "metadata": {},
   "outputs": [],
   "source": [
    "import numpy as np\n",
    "class Solution:\n",
    "    def generateParenthesis(self, n):\n",
    "        res = []\n",
    "        self.dfs(n, n, \"\", res)\n",
    "        return res\n",
    "    \n",
    "    def dfs(self,leftRemain, rightRemain, path, res):\n",
    "    #print(leftRemain,rightRemain,path)\n",
    "        if leftRemain > rightRemain or leftRemain < 0 or rightRemain < 0:\n",
    "            return\n",
    "        if leftRemain == 0 and rightRemain == 0:\n",
    "            res.append(path)\n",
    "            return \n",
    "    \n",
    "        self.dfs(leftRemain-1, rightRemain, path+\"(\", res)\n",
    "        self.dfs(leftRemain, rightRemain-1, path+\")\", res)"
   ]
  }
 ],
 "metadata": {
  "kernelspec": {
   "display_name": "Python 3",
   "language": "python",
   "name": "python3"
  },
  "language_info": {
   "codemirror_mode": {
    "name": "ipython",
    "version": 3
   },
   "file_extension": ".py",
   "mimetype": "text/x-python",
   "name": "python",
   "nbconvert_exporter": "python",
   "pygments_lexer": "ipython3",
   "version": "3.7.3"
  }
 },
 "nbformat": 4,
 "nbformat_minor": 2
}
