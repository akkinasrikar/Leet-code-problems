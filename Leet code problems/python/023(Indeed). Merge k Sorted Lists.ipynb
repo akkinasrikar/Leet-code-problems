{
 "cells": [
  {
   "cell_type": "code",
   "execution_count": 1,
   "id": "d96015e0",
   "metadata": {},
   "outputs": [],
   "source": [
    "class Solution:\n",
    "    def mergeKLists(self, lists):\n",
    "        f=[]\n",
    "        for i in lists:\n",
    "            r=self.get(i)\n",
    "            f=f+r\n",
    "        f=sorted(f)\n",
    "        if len(f)==0:\n",
    "            return None\n",
    "        if len(f)==1:\n",
    "            node=ListNode(f[0])\n",
    "            return node\n",
    "        temp=None\n",
    "        for i in f[::-1]:\n",
    "            node=ListNode(i)\n",
    "            node.next=temp\n",
    "            temp=node\n",
    "        return node\n",
    "    \n",
    "    def get(self,node):\n",
    "        res=[]\n",
    "        while node!=None:\n",
    "            res.append(node.val)\n",
    "            node=node.next\n",
    "        return res"
   ]
  },
  {
   "cell_type": "code",
   "execution_count": null,
   "id": "43cb1ce3",
   "metadata": {},
   "outputs": [],
   "source": []
  }
 ],
 "metadata": {
  "kernelspec": {
   "display_name": "Python 3",
   "language": "python",
   "name": "python3"
  },
  "language_info": {
   "codemirror_mode": {
    "name": "ipython",
    "version": 3
   },
   "file_extension": ".py",
   "mimetype": "text/x-python",
   "name": "python",
   "nbconvert_exporter": "python",
   "pygments_lexer": "ipython3",
   "version": "3.7.10"
  }
 },
 "nbformat": 4,
 "nbformat_minor": 5
}
