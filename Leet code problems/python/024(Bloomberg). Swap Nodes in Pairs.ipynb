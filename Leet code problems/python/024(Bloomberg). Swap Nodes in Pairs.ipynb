{
 "cells": [
  {
   "cell_type": "code",
   "execution_count": 1,
   "metadata": {},
   "outputs": [],
   "source": [
    "class ListNode:\n",
    "     def __init__(self, val=0, next=None):\n",
    "        self.val = val\n",
    "        self.next = next\n",
    "class Solution:\n",
    "    def swapPairs(self, head):\n",
    "        if head==None:\n",
    "            return None\n",
    "        get_nodes=self.Node(head,[])\n",
    "        l=len(get_nodes)\n",
    "        if l==1:\n",
    "            return get_nodes[0]\n",
    "        k=0\n",
    "        for i in range(l//2):\n",
    "            get_nodes[k],get_nodes[k+1]=get_nodes[k+1],get_nodes[k]\n",
    "            k=k+2\n",
    "        for i in range(l-1):\n",
    "            get_nodes[i].next=get_nodes[i+1]\n",
    "        get_nodes[-1].next=None\n",
    "        return get_nodes[0]\n",
    "    \n",
    "    def Node(self,node,res):\n",
    "        if node != None:\n",
    "            res.append(node)\n",
    "            self.Node(node.next,res)\n",
    "        return res\n",
    "            \n",
    "    def display(self,node):\n",
    "        if node!=None:\n",
    "            print(node.val,end=\" \")\n",
    "            self.display(node.next)"
   ]
  },
  {
   "cell_type": "code",
   "execution_count": 2,
   "metadata": {},
   "outputs": [],
   "source": [
    "a=ListNode(4)\n",
    "b=ListNode(3,a)\n",
    "c=ListNode(2,b)\n",
    "d=ListNode(1,c)"
   ]
  },
  {
   "cell_type": "code",
   "execution_count": 3,
   "metadata": {},
   "outputs": [],
   "source": [
    "s=Solution()"
   ]
  },
  {
   "cell_type": "code",
   "execution_count": 4,
   "metadata": {},
   "outputs": [
    {
     "name": "stdout",
     "output_type": "stream",
     "text": [
      "1 2 3 4 "
     ]
    }
   ],
   "source": [
    "s.display(d)"
   ]
  },
  {
   "cell_type": "code",
   "execution_count": 5,
   "metadata": {},
   "outputs": [],
   "source": [
    "ad=s.swapPairs(d)"
   ]
  },
  {
   "cell_type": "code",
   "execution_count": 6,
   "metadata": {},
   "outputs": [
    {
     "name": "stdout",
     "output_type": "stream",
     "text": [
      "2 1 4 3 "
     ]
    }
   ],
   "source": [
    "s.display(ad)"
   ]
  },
  {
   "cell_type": "code",
   "execution_count": 7,
   "metadata": {},
   "outputs": [],
   "source": [
    "x=ListNode(100)"
   ]
  },
  {
   "cell_type": "code",
   "execution_count": 8,
   "metadata": {},
   "outputs": [],
   "source": [
    "add=s.swapPairs(x)"
   ]
  },
  {
   "cell_type": "code",
   "execution_count": 9,
   "metadata": {},
   "outputs": [
    {
     "name": "stdout",
     "output_type": "stream",
     "text": [
      "100 "
     ]
    }
   ],
   "source": [
    "s.display(add)"
   ]
  },
  {
   "cell_type": "code",
   "execution_count": 10,
   "metadata": {},
   "outputs": [],
   "source": [
    "s.swapPairs(None)"
   ]
  },
  {
   "cell_type": "code",
   "execution_count": null,
   "metadata": {},
   "outputs": [],
   "source": []
  }
 ],
 "metadata": {
  "kernelspec": {
   "display_name": "Python 3",
   "language": "python",
   "name": "python3"
  },
  "language_info": {
   "codemirror_mode": {
    "name": "ipython",
    "version": 3
   },
   "file_extension": ".py",
   "mimetype": "text/x-python",
   "name": "python",
   "nbconvert_exporter": "python",
   "pygments_lexer": "ipython3",
   "version": "3.7.3"
  }
 },
 "nbformat": 4,
 "nbformat_minor": 2
}
