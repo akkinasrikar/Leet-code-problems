{
 "cells": [
  {
   "cell_type": "code",
   "execution_count": 1,
   "id": "0d45ced6",
   "metadata": {},
   "outputs": [],
   "source": [
    "class Solution:\n",
    "    def combinationSum(self,nums,target):\n",
    "        res=[]\n",
    "        m=target//min(nums)\n",
    "        self.dfs(nums,target,[],res,m+1)\n",
    "        return res\n",
    "    def dfs(self,nums,target,path,res,m):\n",
    "        if len(path)<m:\n",
    "            if sum(path)==target: res.append(path)\n",
    "        elif len(path)==m:\n",
    "            if sum(path)==target: res.append(path)\n",
    "            return\n",
    "        for i in range(len(nums)):\n",
    "            #print(i,nums[i+1:],k,path+[nums[i]],res)\n",
    "            self.dfs(nums[i:],target,path+[nums[i]],res,m)\n",
    "            "
   ]
  },
  {
   "cell_type": "code",
   "execution_count": 2,
   "id": "4140c4a5",
   "metadata": {},
   "outputs": [],
   "source": [
    "s=Solution()"
   ]
  },
  {
   "cell_type": "code",
   "execution_count": 3,
   "id": "3b4af547",
   "metadata": {},
   "outputs": [
    {
     "data": {
      "text/plain": [
       "[[1, 1]]"
      ]
     },
     "execution_count": 3,
     "metadata": {},
     "output_type": "execute_result"
    }
   ],
   "source": [
    "s.combinationSum([1],2)"
   ]
  },
  {
   "cell_type": "code",
   "execution_count": null,
   "id": "7e7bb79b",
   "metadata": {},
   "outputs": [],
   "source": []
  }
 ],
 "metadata": {
  "kernelspec": {
   "display_name": "Python 3",
   "language": "python",
   "name": "python3"
  },
  "language_info": {
   "codemirror_mode": {
    "name": "ipython",
    "version": 3
   },
   "file_extension": ".py",
   "mimetype": "text/x-python",
   "name": "python",
   "nbconvert_exporter": "python",
   "pygments_lexer": "ipython3",
   "version": "3.7.10"
  }
 },
 "nbformat": 4,
 "nbformat_minor": 5
}
