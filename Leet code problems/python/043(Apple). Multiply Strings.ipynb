{
 "cells": [
  {
   "cell_type": "code",
   "execution_count": 1,
   "id": "90ed987d",
   "metadata": {},
   "outputs": [],
   "source": [
    "class Solution:\n",
    "    def multiply(self, num1, num2):\n",
    "        return str(self.number(num1)*self.number(num2))\n",
    "    def number(self,n):\n",
    "        d={\"0\":0,\"1\":1,\"2\":2,\"3\":3,\"4\":4,\"5\":5,\"6\":6,\"7\":7,\"8\":8,\"9\":9}\n",
    "        l=len(n)-1\n",
    "        st=10**l\n",
    "        val=0\n",
    "        for i in n:\n",
    "            val=val+d[i]*st\n",
    "            st=st//10\n",
    "        return int(val)\n",
    "        "
   ]
  },
  {
   "cell_type": "code",
   "execution_count": 2,
   "id": "741329a8",
   "metadata": {},
   "outputs": [],
   "source": [
    "s=Solution()"
   ]
  },
  {
   "cell_type": "code",
   "execution_count": 3,
   "id": "044acd65",
   "metadata": {},
   "outputs": [
    {
     "data": {
      "text/plain": [
       "'800207406037324579815815608581'"
      ]
     },
     "execution_count": 3,
     "metadata": {},
     "output_type": "execute_result"
    }
   ],
   "source": [
    "s.multiply(\"9333852702227987\",\"85731737104263\")"
   ]
  },
  {
   "cell_type": "code",
   "execution_count": 4,
   "id": "dd44b799",
   "metadata": {},
   "outputs": [
    {
     "data": {
      "text/plain": [
       "800207406037324579815815608581"
      ]
     },
     "execution_count": 4,
     "metadata": {},
     "output_type": "execute_result"
    }
   ],
   "source": [
    "9333852702227987*85731737104263"
   ]
  },
  {
   "cell_type": "code",
   "execution_count": null,
   "id": "40dc8de5",
   "metadata": {},
   "outputs": [],
   "source": []
  }
 ],
 "metadata": {
  "kernelspec": {
   "display_name": "Python 3",
   "language": "python",
   "name": "python3"
  },
  "language_info": {
   "codemirror_mode": {
    "name": "ipython",
    "version": 3
   },
   "file_extension": ".py",
   "mimetype": "text/x-python",
   "name": "python",
   "nbconvert_exporter": "python",
   "pygments_lexer": "ipython3",
   "version": "3.7.10"
  }
 },
 "nbformat": 4,
 "nbformat_minor": 5
}
