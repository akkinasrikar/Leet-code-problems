{
 "cells": [
  {
   "cell_type": "code",
   "execution_count": 1,
   "id": "dba83127",
   "metadata": {},
   "outputs": [],
   "source": [
    "class Solution:\n",
    "    def rotate(self, matrix):\n",
    "        l=len(matrix)\n",
    "        m=matrix\n",
    "        for i in range(l):\n",
    "            nl=[]\n",
    "            for j in range(l):\n",
    "                nl.append(m[j][i])\n",
    "            m.append(nl[::-1])\n",
    "        matrix=m[l:]"
   ]
  },
  {
   "cell_type": "code",
   "execution_count": 2,
   "id": "c30bfc35",
   "metadata": {},
   "outputs": [],
   "source": [
    "s=Solution()"
   ]
  },
  {
   "cell_type": "code",
   "execution_count": 3,
   "id": "cf7e93c8",
   "metadata": {},
   "outputs": [],
   "source": [
    "mt = [[1,2,3],[4,5,6],[7,8,9]]"
   ]
  },
  {
   "cell_type": "code",
   "execution_count": 4,
   "id": "ce56c77b",
   "metadata": {},
   "outputs": [],
   "source": [
    "mt[:]=zip(*mt[::-1])"
   ]
  },
  {
   "cell_type": "code",
   "execution_count": 5,
   "id": "9ff46ae6",
   "metadata": {},
   "outputs": [
    {
     "data": {
      "text/plain": [
       "[(7, 4, 1), (8, 5, 2), (9, 6, 3)]"
      ]
     },
     "execution_count": 5,
     "metadata": {},
     "output_type": "execute_result"
    }
   ],
   "source": [
    "mt"
   ]
  },
  {
   "cell_type": "code",
   "execution_count": 6,
   "id": "0fb72e69",
   "metadata": {},
   "outputs": [],
   "source": [
    "s.rotate(mt)"
   ]
  },
  {
   "cell_type": "code",
   "execution_count": 7,
   "id": "f466361e",
   "metadata": {},
   "outputs": [],
   "source": [
    "k=[1,2,3,4,5]"
   ]
  },
  {
   "cell_type": "code",
   "execution_count": 8,
   "id": "0445d279",
   "metadata": {},
   "outputs": [],
   "source": [
    "k=k[:2]"
   ]
  },
  {
   "cell_type": "code",
   "execution_count": 9,
   "id": "c26b3173",
   "metadata": {},
   "outputs": [
    {
     "data": {
      "text/plain": [
       "[1, 2]"
      ]
     },
     "execution_count": 9,
     "metadata": {},
     "output_type": "execute_result"
    }
   ],
   "source": [
    "k"
   ]
  },
  {
   "cell_type": "code",
   "execution_count": 10,
   "id": "d01dfc81",
   "metadata": {},
   "outputs": [],
   "source": [
    "class Solution:\n",
    "    def rotate(self, matrix):\n",
    "        matrix[:]=zip(*matrix[::-1])"
   ]
  }
 ],
 "metadata": {
  "kernelspec": {
   "display_name": "Python 3",
   "language": "python",
   "name": "python3"
  },
  "language_info": {
   "codemirror_mode": {
    "name": "ipython",
    "version": 3
   },
   "file_extension": ".py",
   "mimetype": "text/x-python",
   "name": "python",
   "nbconvert_exporter": "python",
   "pygments_lexer": "ipython3",
   "version": "3.7.10"
  }
 },
 "nbformat": 4,
 "nbformat_minor": 5
}
