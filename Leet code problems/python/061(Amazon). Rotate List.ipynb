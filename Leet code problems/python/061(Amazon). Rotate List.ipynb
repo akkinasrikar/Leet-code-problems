{
 "cells": [
  {
   "cell_type": "code",
   "execution_count": 29,
   "metadata": {},
   "outputs": [],
   "source": [
    "class ListNode:\n",
    "     def __init__(self, val=0, next=None):\n",
    "            self.val = val\n",
    "            self.next = next\n",
    "class Solution:\n",
    "    def rotateRight(self, head, k):\n",
    "        get_nodes=self.Node(head,[])\n",
    "        l=len(get_nodes)\n",
    "        if l==1:\n",
    "            return head\n",
    "        if k<l:\n",
    "            for i in range(k):\n",
    "                get_nodes.insert(0,get_nodes.pop())\n",
    "        else:\n",
    "            for i in range(k%l):\n",
    "                get_nodes.insert(0,get_nodes.pop())\n",
    "        for i in range(l-1):\n",
    "            get_nodes[i].next=get_nodes[i+1]\n",
    "        get_nodes[-1].next=None\n",
    "        return get_nodes[0]\n",
    "                \n",
    "        \n",
    "    def Node(self,node,res):\n",
    "        if node != None:\n",
    "            res.append(node)\n",
    "            self.Node(node.next,res)\n",
    "        return res\n",
    "            \n",
    "    def display(self,node):\n",
    "        if node!=None:\n",
    "            print(node.val,end=\" \")\n",
    "            self.display(node.next)\n",
    "        "
   ]
  },
  {
   "cell_type": "code",
   "execution_count": 35,
   "metadata": {},
   "outputs": [],
   "source": [
    "b=ListNode(2)\n",
    "c=ListNode(1,b)\n",
    "d=ListNode(0,c)"
   ]
  },
  {
   "cell_type": "code",
   "execution_count": 36,
   "metadata": {},
   "outputs": [],
   "source": [
    "s=Solution()"
   ]
  },
  {
   "cell_type": "code",
   "execution_count": 37,
   "metadata": {},
   "outputs": [
    {
     "name": "stdout",
     "output_type": "stream",
     "text": [
      "0 1 2 "
     ]
    }
   ],
   "source": [
    "s.display(d)"
   ]
  },
  {
   "cell_type": "code",
   "execution_count": 38,
   "metadata": {},
   "outputs": [],
   "source": [
    "ad=s.rotateRight(d,4)"
   ]
  },
  {
   "cell_type": "code",
   "execution_count": 39,
   "metadata": {},
   "outputs": [
    {
     "name": "stdout",
     "output_type": "stream",
     "text": [
      "2 0 1 "
     ]
    }
   ],
   "source": [
    "s.display(ad)"
   ]
  },
  {
   "cell_type": "code",
   "execution_count": null,
   "metadata": {},
   "outputs": [],
   "source": []
  },
  {
   "cell_type": "code",
   "execution_count": null,
   "metadata": {},
   "outputs": [],
   "source": []
  }
 ],
 "metadata": {
  "kernelspec": {
   "display_name": "Python 3",
   "language": "python",
   "name": "python3"
  },
  "language_info": {
   "codemirror_mode": {
    "name": "ipython",
    "version": 3
   },
   "file_extension": ".py",
   "mimetype": "text/x-python",
   "name": "python",
   "nbconvert_exporter": "python",
   "pygments_lexer": "ipython3",
   "version": "3.7.3"
  }
 },
 "nbformat": 4,
 "nbformat_minor": 2
}
