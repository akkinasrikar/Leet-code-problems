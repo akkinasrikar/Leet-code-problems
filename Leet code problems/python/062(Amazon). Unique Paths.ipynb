{
 "cells": [
  {
   "cell_type": "code",
   "execution_count": 1,
   "id": "aaad06ce",
   "metadata": {},
   "outputs": [],
   "source": [
    "#using greedy recursion\n",
    "class Solution:\n",
    "    def uniquePaths(self,m,n):\n",
    "        res=[]\n",
    "        self.dfs(m,n,res)\n",
    "        return len(res)\n",
    "    def dfs(self,m,n,res):\n",
    "        if m==1 and n==1:\n",
    "            res.append(1)\n",
    "            return\n",
    "        if m>=1 and n>=1:\n",
    "            self.dfs(m-1,n,res)\n",
    "            self.dfs(m,n-1,res)"
   ]
  },
  {
   "cell_type": "code",
   "execution_count": 2,
   "id": "8f17fee0",
   "metadata": {},
   "outputs": [],
   "source": [
    "s=Solution()"
   ]
  },
  {
   "cell_type": "code",
   "execution_count": 3,
   "id": "a83ba986",
   "metadata": {},
   "outputs": [
    {
     "data": {
      "text/plain": [
       "6"
      ]
     },
     "execution_count": 3,
     "metadata": {},
     "output_type": "execute_result"
    }
   ],
   "source": [
    "s.uniquePaths(3,3)"
   ]
  },
  {
   "cell_type": "code",
   "execution_count": 4,
   "id": "5797a500",
   "metadata": {},
   "outputs": [],
   "source": [
    "#using math\n",
    "# m-1 ways and n-1 ways to reach finish\n",
    "#No of unique paths = ( m-1 + n-1 ) ! / (m-1)! * (n-1)!\n",
    "from math import factorial as f\n",
    "class Solution:\n",
    "    def uniquePaths(self,m,n):\n",
    "        return f(m+n-2)/(f(m-1)*f(n-1))"
   ]
  },
  {
   "cell_type": "code",
   "execution_count": 5,
   "id": "2291820a",
   "metadata": {},
   "outputs": [],
   "source": [
    "s=Solution()"
   ]
  },
  {
   "cell_type": "code",
   "execution_count": 6,
   "id": "89ea7cfb",
   "metadata": {},
   "outputs": [
    {
     "data": {
      "text/plain": [
       "6.0"
      ]
     },
     "execution_count": 6,
     "metadata": {},
     "output_type": "execute_result"
    }
   ],
   "source": [
    "s.uniquePaths(3,3)"
   ]
  },
  {
   "cell_type": "code",
   "execution_count": 7,
   "id": "8baaad0f",
   "metadata": {},
   "outputs": [],
   "source": [
    "#dynamic programming"
   ]
  },
  {
   "cell_type": "code",
   "execution_count": 8,
   "id": "2dc7ba70",
   "metadata": {},
   "outputs": [],
   "source": [
    "class Solution:\n",
    "    def uniquePaths(self,m,n):\n",
    "        path = [ [ 1 for j in range(n)] for i in range(m) ]\n",
    "        for i in range(1,m):\n",
    "            for j in range(1,n):\n",
    "                path[i][j]=path[i][j-1]+path[i-1][j]\n",
    "                #print(path)\n",
    "        return path[-1][-1]"
   ]
  },
  {
   "cell_type": "code",
   "execution_count": 9,
   "id": "9b60f8be",
   "metadata": {},
   "outputs": [],
   "source": [
    "s=Solution()"
   ]
  },
  {
   "cell_type": "code",
   "execution_count": 10,
   "id": "d9802f14",
   "metadata": {},
   "outputs": [
    {
     "data": {
      "text/plain": [
       "6"
      ]
     },
     "execution_count": 10,
     "metadata": {},
     "output_type": "execute_result"
    }
   ],
   "source": [
    "s.uniquePaths(3,3)"
   ]
  },
  {
   "cell_type": "code",
   "execution_count": null,
   "id": "115757a7",
   "metadata": {},
   "outputs": [],
   "source": []
  }
 ],
 "metadata": {
  "kernelspec": {
   "display_name": "Python 3",
   "language": "python",
   "name": "python3"
  },
  "language_info": {
   "codemirror_mode": {
    "name": "ipython",
    "version": 3
   },
   "file_extension": ".py",
   "mimetype": "text/x-python",
   "name": "python",
   "nbconvert_exporter": "python",
   "pygments_lexer": "ipython3",
   "version": "3.7.10"
  }
 },
 "nbformat": 4,
 "nbformat_minor": 5
}
