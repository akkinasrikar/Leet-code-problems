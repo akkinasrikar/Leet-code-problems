{
 "cells": [
  {
   "cell_type": "code",
   "execution_count": 1,
   "id": "ea1e3e42",
   "metadata": {},
   "outputs": [],
   "source": [
    "class Solution:\n",
    "    def addBinary(self, a, b):\n",
    "        n=self.binarytodecimal(a)+self.binarytodecimal(b)\n",
    "        return self.decimaltobinary(n)\n",
    "    def decimaltobinary(self,n):\n",
    "        return bin(n).replace(\"0b\",\"\")\n",
    "    def binarytodecimal(self,n):\n",
    "        return int(n,2)"
   ]
  },
  {
   "cell_type": "code",
   "execution_count": 2,
   "id": "5f69387e",
   "metadata": {},
   "outputs": [],
   "source": [
    "s=Solution()"
   ]
  },
  {
   "cell_type": "code",
   "execution_count": 3,
   "id": "d9205444",
   "metadata": {},
   "outputs": [
    {
     "data": {
      "text/plain": [
       "'10101'"
      ]
     },
     "execution_count": 3,
     "metadata": {},
     "output_type": "execute_result"
    }
   ],
   "source": [
    "s.addBinary(\"1010\",\"1011\")"
   ]
  },
  {
   "cell_type": "code",
   "execution_count": null,
   "id": "e48f84bb",
   "metadata": {},
   "outputs": [],
   "source": []
  }
 ],
 "metadata": {
  "kernelspec": {
   "display_name": "Python 3",
   "language": "python",
   "name": "python3"
  },
  "language_info": {
   "codemirror_mode": {
    "name": "ipython",
    "version": 3
   },
   "file_extension": ".py",
   "mimetype": "text/x-python",
   "name": "python",
   "nbconvert_exporter": "python",
   "pygments_lexer": "ipython3",
   "version": "3.7.10"
  }
 },
 "nbformat": 4,
 "nbformat_minor": 5
}
