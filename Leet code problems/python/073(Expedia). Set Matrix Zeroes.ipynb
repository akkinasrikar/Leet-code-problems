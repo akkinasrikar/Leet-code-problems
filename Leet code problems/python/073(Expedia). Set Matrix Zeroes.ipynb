{
 "cells": [
  {
   "cell_type": "code",
   "execution_count": 1,
   "id": "744f54f1",
   "metadata": {},
   "outputs": [],
   "source": [
    "class Solution:\n",
    "    def setZeroes(self, matrix):\n",
    "        loc=[]\n",
    "        l=len(matrix[0])\n",
    "        m=len(matrix)\n",
    "        for i in range(m):\n",
    "            for j in range(l):\n",
    "                if matrix[i][j]==0:\n",
    "                    loc.append([i,j])\n",
    "        for r in loc:\n",
    "            matrix[r[0]]=list([0]*l)\n",
    "            for i in matrix:\n",
    "                i[r[1]]=0"
   ]
  },
  {
   "cell_type": "code",
   "execution_count": 2,
   "id": "9a3b328b",
   "metadata": {},
   "outputs": [],
   "source": [
    "s=Solution()"
   ]
  },
  {
   "cell_type": "code",
   "execution_count": 3,
   "id": "8f0b3e8b",
   "metadata": {},
   "outputs": [],
   "source": [
    "s.setZeroes([[0,1,2,0],[3,4,5,2],[1,3,1,5]])"
   ]
  },
  {
   "cell_type": "code",
   "execution_count": 4,
   "id": "0d985efd",
   "metadata": {},
   "outputs": [
    {
     "data": {
      "text/plain": [
       "[0, 0, 0]"
      ]
     },
     "execution_count": 4,
     "metadata": {},
     "output_type": "execute_result"
    }
   ],
   "source": [
    "list([0]*3)"
   ]
  },
  {
   "cell_type": "code",
   "execution_count": null,
   "id": "b1290f80",
   "metadata": {},
   "outputs": [],
   "source": []
  }
 ],
 "metadata": {
  "kernelspec": {
   "display_name": "Python 3",
   "language": "python",
   "name": "python3"
  },
  "language_info": {
   "codemirror_mode": {
    "name": "ipython",
    "version": 3
   },
   "file_extension": ".py",
   "mimetype": "text/x-python",
   "name": "python",
   "nbconvert_exporter": "python",
   "pygments_lexer": "ipython3",
   "version": "3.7.10"
  }
 },
 "nbformat": 4,
 "nbformat_minor": 5
}
