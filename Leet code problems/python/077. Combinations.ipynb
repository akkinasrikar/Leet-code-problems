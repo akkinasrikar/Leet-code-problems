{
 "cells": [
  {
   "cell_type": "code",
   "execution_count": 1,
   "id": "594635dd",
   "metadata": {},
   "outputs": [],
   "source": [
    "from itertools import combinations\n",
    "class Solution:\n",
    "    def combine(self, n,k):\n",
    "        comb=list(combinations(range(1,n+1),k))\n",
    "        res=[list(i) for i in comb]\n",
    "        return res"
   ]
  },
  {
   "cell_type": "code",
   "execution_count": 2,
   "id": "1f375b91",
   "metadata": {},
   "outputs": [],
   "source": [
    "s=Solution()"
   ]
  },
  {
   "cell_type": "code",
   "execution_count": 3,
   "id": "6b6443f2",
   "metadata": {},
   "outputs": [
    {
     "data": {
      "text/plain": [
       "[[1, 2], [1, 3], [1, 4], [2, 3], [2, 4], [3, 4]]"
      ]
     },
     "execution_count": 3,
     "metadata": {},
     "output_type": "execute_result"
    }
   ],
   "source": [
    "s.combine(4,2)"
   ]
  },
  {
   "cell_type": "code",
   "execution_count": 4,
   "id": "865c5399",
   "metadata": {},
   "outputs": [],
   "source": [
    "class Solution:\n",
    "    def combine(self,n,k):\n",
    "        res=[]\n",
    "        self.dfs(list(range(1,n+1)),k,[],res)\n",
    "        return res\n",
    "    def dfs(self,nums,k,path,res):\n",
    "        if len(path)==k:\n",
    "            res.append(path)\n",
    "            return\n",
    "        for i in range(len(nums)):\n",
    "            print(i,nums[i+1:],k,path+[nums[i]],res)\n",
    "            self.dfs(nums[i+1:],k,path+[nums[i]],res)\n",
    "            "
   ]
  },
  {
   "cell_type": "code",
   "execution_count": 5,
   "id": "933b5232",
   "metadata": {},
   "outputs": [],
   "source": [
    "s=Solution()"
   ]
  },
  {
   "cell_type": "code",
   "execution_count": 6,
   "id": "42f80a61",
   "metadata": {},
   "outputs": [
    {
     "name": "stdout",
     "output_type": "stream",
     "text": [
      "0 [2, 3, 4] 2 [1] []\n",
      "0 [3, 4] 2 [1, 2] []\n",
      "1 [4] 2 [1, 3] [[1, 2]]\n",
      "2 [] 2 [1, 4] [[1, 2], [1, 3]]\n",
      "1 [3, 4] 2 [2] [[1, 2], [1, 3], [1, 4]]\n",
      "0 [4] 2 [2, 3] [[1, 2], [1, 3], [1, 4]]\n",
      "1 [] 2 [2, 4] [[1, 2], [1, 3], [1, 4], [2, 3]]\n",
      "2 [4] 2 [3] [[1, 2], [1, 3], [1, 4], [2, 3], [2, 4]]\n",
      "0 [] 2 [3, 4] [[1, 2], [1, 3], [1, 4], [2, 3], [2, 4]]\n",
      "3 [] 2 [4] [[1, 2], [1, 3], [1, 4], [2, 3], [2, 4], [3, 4]]\n"
     ]
    },
    {
     "data": {
      "text/plain": [
       "[[1, 2], [1, 3], [1, 4], [2, 3], [2, 4], [3, 4]]"
      ]
     },
     "execution_count": 6,
     "metadata": {},
     "output_type": "execute_result"
    }
   ],
   "source": [
    "s.combine(4,2)"
   ]
  },
  {
   "cell_type": "code",
   "execution_count": null,
   "id": "44e42bf5",
   "metadata": {},
   "outputs": [],
   "source": []
  }
 ],
 "metadata": {
  "kernelspec": {
   "display_name": "Python 3",
   "language": "python",
   "name": "python3"
  },
  "language_info": {
   "codemirror_mode": {
    "name": "ipython",
    "version": 3
   },
   "file_extension": ".py",
   "mimetype": "text/x-python",
   "name": "python",
   "nbconvert_exporter": "python",
   "pygments_lexer": "ipython3",
   "version": "3.7.10"
  }
 },
 "nbformat": 4,
 "nbformat_minor": 5
}
