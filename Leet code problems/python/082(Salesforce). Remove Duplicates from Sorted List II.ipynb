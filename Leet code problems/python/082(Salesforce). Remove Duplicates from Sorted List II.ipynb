{
 "cells": [
  {
   "cell_type": "code",
   "execution_count": 72,
   "metadata": {},
   "outputs": [],
   "source": [
    "# Definition for singly-linked list.\n",
    "# class ListNode:\n",
    "#     def __init__(self, val=0, next=None):\n",
    "#         self.val = val\n",
    "#         self.next = next\n",
    "class Solution:\n",
    "    def deleteDuplicates(self, head):\n",
    "        if head==None: return None\n",
    "        r,v=self.getnodes(head,[],{})\n",
    "        nw=[]\n",
    "        l=len(r)\n",
    "        t=0\n",
    "        for i in v.keys():\n",
    "            if v[i]>1:\n",
    "                t=t+v[i]\n",
    "            else:\n",
    "                nw.append(r[t])\n",
    "                t=t+1\n",
    "        lnw=len(nw)\n",
    "        if lnw==0: return None\n",
    "        if lnw==1:\n",
    "            nw[0].next=None\n",
    "            return nw[0]\n",
    "        for i in range(lnw-1):\n",
    "            nw[i].next=nw[i+1]\n",
    "        nw[-1].next=None\n",
    "        return nw[0]\n",
    "                \n",
    "    def getnodes(self,node,res,vals):\n",
    "        if node!=None:\n",
    "            if node.val not in vals:\n",
    "                vals[node.val]=1\n",
    "                res.append(node)\n",
    "                self.getnodes(node.next,res,vals)\n",
    "            else:\n",
    "                vals[node.val]=vals[node.val]+1\n",
    "                res.append(node)\n",
    "                self.getnodes(node.next,res,vals)\n",
    "        return res,vals"
   ]
  },
  {
   "cell_type": "code",
   "execution_count": null,
   "metadata": {},
   "outputs": [],
   "source": []
  }
 ],
 "metadata": {
  "kernelspec": {
   "display_name": "Python 3",
   "language": "python",
   "name": "python3"
  },
  "language_info": {
   "codemirror_mode": {
    "name": "ipython",
    "version": 3
   },
   "file_extension": ".py",
   "mimetype": "text/x-python",
   "name": "python",
   "nbconvert_exporter": "python",
   "pygments_lexer": "ipython3",
   "version": "3.7.3"
  }
 },
 "nbformat": 4,
 "nbformat_minor": 2
}
