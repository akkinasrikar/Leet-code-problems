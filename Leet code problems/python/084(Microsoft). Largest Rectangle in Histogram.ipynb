{
 "cells": [
  {
   "cell_type": "code",
   "execution_count": 1,
   "id": "e8c202de",
   "metadata": {},
   "outputs": [],
   "source": [
    "class Solution:\n",
    "    def largestRectangleArea(self, heights):\n",
    "        stack = []\n",
    "        m = 0\n",
    "        index = 0\n",
    "        while index < len(heights):\n",
    "            if (not stack) or (heights[stack[-1]] <= heights[index]):\n",
    "                stack.append(index)\n",
    "                index += 1\n",
    "            else:\n",
    "                top = stack.pop()\n",
    "                area = (heights[top]*((index-stack[-1]-1) if stack else index))\n",
    "                m = max(area,m)\n",
    "        while stack:\n",
    "            top = stack.pop()\n",
    "            area = (heights[top]*((index-stack[-1]-1) if stack else index))\n",
    "            m = max(area,m)\n",
    "        return m                "
   ]
  },
  {
   "cell_type": "code",
   "execution_count": 2,
   "id": "bc075939",
   "metadata": {},
   "outputs": [],
   "source": [
    "s=Solution()"
   ]
  },
  {
   "cell_type": "code",
   "execution_count": 3,
   "id": "9bbbf09a",
   "metadata": {},
   "outputs": [
    {
     "data": {
      "text/plain": [
       "12"
      ]
     },
     "execution_count": 3,
     "metadata": {},
     "output_type": "execute_result"
    }
   ],
   "source": [
    "s.largestRectangleArea([6, 2, 5, 4, 5, 1, 6])"
   ]
  },
  {
   "cell_type": "code",
   "execution_count": 4,
   "id": "0dc7daf8",
   "metadata": {},
   "outputs": [],
   "source": [
    "# reference links\n",
    "#https://www.geeksforgeeks.org/largest-rectangle-under-histogram/\n",
    "#https://www.youtube.com/watch?v=ZmnqCZp9bBs"
   ]
  },
  {
   "cell_type": "code",
   "execution_count": null,
   "id": "229874be",
   "metadata": {},
   "outputs": [],
   "source": []
  }
 ],
 "metadata": {
  "kernelspec": {
   "display_name": "Python 3",
   "language": "python",
   "name": "python3"
  },
  "language_info": {
   "codemirror_mode": {
    "name": "ipython",
    "version": 3
   },
   "file_extension": ".py",
   "mimetype": "text/x-python",
   "name": "python",
   "nbconvert_exporter": "python",
   "pygments_lexer": "ipython3",
   "version": "3.7.10"
  }
 },
 "nbformat": 4,
 "nbformat_minor": 5
}
