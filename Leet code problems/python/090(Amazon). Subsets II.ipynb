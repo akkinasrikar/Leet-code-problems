{
 "cells": [
  {
   "cell_type": "code",
   "execution_count": 1,
   "id": "069d73f7",
   "metadata": {},
   "outputs": [],
   "source": [
    "class Solution:\n",
    "    def subsetsWithDup(self, nums):\n",
    "        res=[]\n",
    "        self.dfs(sorted(nums),[],res,len(nums))\n",
    "        return res\n",
    "    def dfs(self,nums,path,res,l):\n",
    "        if len(path)==l: \n",
    "            res.append(path)\n",
    "            return\n",
    "        if path not in res:\n",
    "            res.append(path)\n",
    "        for i in range(len(nums)):\n",
    "            self.dfs(nums[i+1:],path+[nums[i]],res,l)"
   ]
  },
  {
   "cell_type": "code",
   "execution_count": 2,
   "id": "8b53468b",
   "metadata": {},
   "outputs": [],
   "source": [
    "s=Solution()"
   ]
  },
  {
   "cell_type": "code",
   "execution_count": 3,
   "id": "56eba5d1",
   "metadata": {},
   "outputs": [
    {
     "data": {
      "text/plain": [
       "[[],\n",
       " [1],\n",
       " [1, 4],\n",
       " [1, 4, 4],\n",
       " [1, 4, 4, 4],\n",
       " [1, 4, 4, 4, 4],\n",
       " [4],\n",
       " [4, 4],\n",
       " [4, 4, 4],\n",
       " [4, 4, 4, 4]]"
      ]
     },
     "execution_count": 3,
     "metadata": {},
     "output_type": "execute_result"
    }
   ],
   "source": [
    "s.subsetsWithDup([4,4,4,1,4])"
   ]
  },
  {
   "cell_type": "code",
   "execution_count": null,
   "id": "9f6a1884",
   "metadata": {},
   "outputs": [],
   "source": []
  }
 ],
 "metadata": {
  "kernelspec": {
   "display_name": "Python 3",
   "language": "python",
   "name": "python3"
  },
  "language_info": {
   "codemirror_mode": {
    "name": "ipython",
    "version": 3
   },
   "file_extension": ".py",
   "mimetype": "text/x-python",
   "name": "python",
   "nbconvert_exporter": "python",
   "pygments_lexer": "ipython3",
   "version": "3.7.10"
  }
 },
 "nbformat": 4,
 "nbformat_minor": 5
}
