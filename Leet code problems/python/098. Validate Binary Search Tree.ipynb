{
 "cells": [
  {
   "cell_type": "code",
   "execution_count": null,
   "id": "dd4ed522",
   "metadata": {},
   "outputs": [],
   "source": [
    "# Definition for a binary tree node.\n",
    "# class TreeNode:\n",
    "#     def __init__(self, val=0, left=None, right=None):\n",
    "#         self.val = val\n",
    "#         self.left = left\n",
    "#         self.right = right\n",
    "class Solution:\n",
    "    def isValidBST(self, root):\n",
    "        values=[]\n",
    "        self.inorder(root,values)\n",
    "        nw=sorted(values)\n",
    "        if nw==values and len(set(values))==len(values):\n",
    "            return True\n",
    "        else:\n",
    "            return False\n",
    "        \n",
    "    def inorder(self,node,r):\n",
    "        if node!=None:\n",
    "            self.inorder(node.left,r)\n",
    "            r.append(node.val)\n",
    "            self.inorder(node.right,r)\n",
    "        "
   ]
  }
 ],
 "metadata": {
  "kernelspec": {
   "display_name": "Python 3",
   "language": "python",
   "name": "python3"
  },
  "language_info": {
   "codemirror_mode": {
    "name": "ipython",
    "version": 3
   },
   "file_extension": ".py",
   "mimetype": "text/x-python",
   "name": "python",
   "nbconvert_exporter": "python",
   "pygments_lexer": "ipython3",
   "version": "3.7.10"
  }
 },
 "nbformat": 4,
 "nbformat_minor": 5
}
