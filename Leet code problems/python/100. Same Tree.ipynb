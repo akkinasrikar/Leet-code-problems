{
 "cells": [
  {
   "cell_type": "code",
   "execution_count": 16,
   "metadata": {},
   "outputs": [],
   "source": [
    "class TreeNode(object):\n",
    "    def __init__(self, val=0, left=None, right=None):\n",
    "            self.val = val\n",
    "            self.left = left\n",
    "            self.right = right"
   ]
  },
  {
   "cell_type": "code",
   "execution_count": 32,
   "metadata": {},
   "outputs": [],
   "source": [
    "class Solution:\n",
    "    def __init__(self):\n",
    "        self.s=None\n",
    "    def isSameTree(self,p,q):\n",
    "        self.inorder(p,q)\n",
    "        return self.s\n",
    "    def inorder(self,p,q):\n",
    "        if p==None and q==None:\n",
    "            return\n",
    "        \n",
    "        try:\n",
    "            self.inorder(p.left,q.left)\n",
    "            if p.val==q.val:\n",
    "                self.s='true'\n",
    "            else:\n",
    "                self.s='false'\n",
    "            self.inorder(p.right,q.right)\n",
    "        except:\n",
    "            self.s='false'"
   ]
  },
  {
   "cell_type": "code",
   "execution_count": 33,
   "metadata": {},
   "outputs": [],
   "source": [
    "p=TreeNode(1)\n",
    "p.left=TreeNode(2)\n",
    "p.right=TreeNode(1)"
   ]
  },
  {
   "cell_type": "code",
   "execution_count": 34,
   "metadata": {},
   "outputs": [],
   "source": [
    "q=TreeNode(1)\n",
    "q.left=TreeNode(1)\n",
    "q.right=TreeNode(2)"
   ]
  },
  {
   "cell_type": "code",
   "execution_count": 35,
   "metadata": {},
   "outputs": [],
   "source": [
    "tree=Solution()"
   ]
  },
  {
   "cell_type": "code",
   "execution_count": 36,
   "metadata": {},
   "outputs": [
    {
     "data": {
      "text/plain": [
       "'false'"
      ]
     },
     "execution_count": 36,
     "metadata": {},
     "output_type": "execute_result"
    }
   ],
   "source": [
    "tree.isSameTree(p,q)"
   ]
  },
  {
   "cell_type": "code",
   "execution_count": 37,
   "metadata": {},
   "outputs": [],
   "source": [
    "class Solution:\n",
    "    def isSameTree(self,p,q):        \n",
    "        if p and q:\n",
    "            return p.val==q.val and self.isSameTree(p.left,q.left) and self.isSameTree(p.right,q.right)\n",
    "        return p is q\n"
   ]
  },
  {
   "cell_type": "code",
   "execution_count": 38,
   "metadata": {},
   "outputs": [],
   "source": [
    "a=TreeNode(1)\n",
    "a.left=TreeNode(2)\n",
    "a.right=TreeNode(1)"
   ]
  },
  {
   "cell_type": "code",
   "execution_count": 39,
   "metadata": {},
   "outputs": [],
   "source": [
    "b=TreeNode(1)\n",
    "b.left=TreeNode(1)\n",
    "b.right=TreeNode(2)"
   ]
  },
  {
   "cell_type": "code",
   "execution_count": 40,
   "metadata": {},
   "outputs": [],
   "source": [
    "tree=Solution()"
   ]
  },
  {
   "cell_type": "code",
   "execution_count": 41,
   "metadata": {},
   "outputs": [
    {
     "data": {
      "text/plain": [
       "False"
      ]
     },
     "execution_count": 41,
     "metadata": {},
     "output_type": "execute_result"
    }
   ],
   "source": [
    "tree.isSameTree(a,b)"
   ]
  },
  {
   "cell_type": "code",
   "execution_count": null,
   "metadata": {},
   "outputs": [],
   "source": []
  }
 ],
 "metadata": {
  "kernelspec": {
   "display_name": "Python 3",
   "language": "python",
   "name": "python3"
  },
  "language_info": {
   "codemirror_mode": {
    "name": "ipython",
    "version": 3
   },
   "file_extension": ".py",
   "mimetype": "text/x-python",
   "name": "python",
   "nbconvert_exporter": "python",
   "pygments_lexer": "ipython3",
   "version": "3.7.3"
  }
 },
 "nbformat": 4,
 "nbformat_minor": 2
}
