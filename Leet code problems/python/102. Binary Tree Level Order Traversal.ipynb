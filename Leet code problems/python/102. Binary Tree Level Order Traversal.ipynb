{
 "cells": [
  {
   "cell_type": "code",
   "execution_count": 2,
   "metadata": {},
   "outputs": [],
   "source": [
    "class TreeNode(object):\n",
    "    def __init__(self, val=0, left=None, right=None):\n",
    "            self.val = val\n",
    "            self.left = left\n",
    "            self.right = right"
   ]
  },
  {
   "cell_type": "code",
   "execution_count": 60,
   "metadata": {},
   "outputs": [],
   "source": [
    "class Solution:\n",
    "    \n",
    "    def __init__(self):\n",
    "        self.l=[]\n",
    "    def levelOrder(self, root):\n",
    "        h=self.maxDepth(root)\n",
    "        for i in range(1,h+1):\n",
    "            self.l.append(self.getvalues(root,i))\n",
    "        return self.l\n",
    "    def getvalues(self,root,level,lst=None):\n",
    "        if root is None:\n",
    "            return\n",
    "        if lst==None:\n",
    "            lst=[]\n",
    "        if level == 1:\n",
    "            lst.append(root.val)\n",
    "        elif level > 1 :\n",
    "            self.getvalues(root.left , level-1,lst)\n",
    "            self.getvalues(root.right , level-1,lst)\n",
    "        return lst\n",
    "    def maxDepth(self,root):\n",
    "        return 1+max(map(self.maxDepth,(root.left,root.right))) if root else 0    "
   ]
  }
 ],
 "metadata": {
  "kernelspec": {
   "display_name": "Python 3",
   "language": "python",
   "name": "python3"
  },
  "language_info": {
   "codemirror_mode": {
    "name": "ipython",
    "version": 3
   },
   "file_extension": ".py",
   "mimetype": "text/x-python",
   "name": "python",
   "nbconvert_exporter": "python",
   "pygments_lexer": "ipython3",
   "version": "3.7.3"
  }
 },
 "nbformat": 4,
 "nbformat_minor": 2
}
