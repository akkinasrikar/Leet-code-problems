{
 "cells": [
  {
   "cell_type": "code",
   "execution_count": 129,
   "metadata": {},
   "outputs": [],
   "source": [
    "class TreeNode(object):\n",
    "    def __init__(self, val=0, left=None, right=None):\n",
    "            self.val = val\n",
    "            self.left = left\n",
    "            self.right = right"
   ]
  },
  {
   "cell_type": "code",
   "execution_count": 147,
   "metadata": {},
   "outputs": [],
   "source": [
    "class Solution:\n",
    "    def buildTree(self,preorder,inorder):\n",
    "        dictr={}\n",
    "        for i,e in enumerate(inorder):\n",
    "            dictr[e]=i\n",
    "            \n",
    "        pindex=0\n",
    "        return self.construct(0,len(inorder)-1,preorder,pindex,dictr)[0]\n",
    "    \n",
    "    def construct(self,start,end,preoder,pindex,dictr):\n",
    "        \n",
    "        if start>end:\n",
    "            return None,pindex\n",
    "        \n",
    "        root=TreeNode(preoder[pindex])\n",
    "        pindex=pindex+1\n",
    "        index=dictr[root.val]\n",
    "        root.left,pindex=self.construct(start,index-1,preoder,pindex,dictr)\n",
    "        root.right,pindex=self.construct(index+1,end,preoder,pindex,dictr)\n",
    "        return root,pindex\n",
    "    \n",
    "    def inorder(self,temp):\n",
    "        if temp==None:\n",
    "            return\n",
    "        \n",
    "        self.inorder(temp.left)\n",
    "        print(temp.val,end=\" \")\n",
    "        self.inorder(temp.right)\n",
    "        \n",
    "    def preorder(self,temp):\n",
    "        if temp==None:\n",
    "            return\n",
    "        \n",
    "        print(temp.val,end=\" \")\n",
    "        self.preorder(temp.left)\n",
    "        self.preorder(temp.right)"
   ]
  },
  {
   "cell_type": "code",
   "execution_count": 148,
   "metadata": {},
   "outputs": [],
   "source": [
    "tree=Solution()"
   ]
  },
  {
   "cell_type": "code",
   "execution_count": 149,
   "metadata": {},
   "outputs": [],
   "source": [
    "inorder = [4, 2, 1, 7, 5, 8, 3, 6]\n",
    "preorder = [1, 2, 4, 3, 5, 7, 8, 6]"
   ]
  },
  {
   "cell_type": "code",
   "execution_count": 150,
   "metadata": {},
   "outputs": [],
   "source": [
    "r=tree.buildTree(preorder=preorder,inorder=inorder)"
   ]
  },
  {
   "cell_type": "code",
   "execution_count": 151,
   "metadata": {},
   "outputs": [
    {
     "name": "stdout",
     "output_type": "stream",
     "text": [
      "1 2 4 3 5 7 8 6 "
     ]
    }
   ],
   "source": [
    "tree.preorder(r)"
   ]
  },
  {
   "cell_type": "code",
   "execution_count": 152,
   "metadata": {},
   "outputs": [
    {
     "name": "stdout",
     "output_type": "stream",
     "text": [
      "4 2 1 7 5 8 3 6 "
     ]
    }
   ],
   "source": [
    "tree.inorder(r)"
   ]
  },
  {
   "cell_type": "code",
   "execution_count": null,
   "metadata": {},
   "outputs": [],
   "source": []
  }
 ],
 "metadata": {
  "kernelspec": {
   "display_name": "Python 3",
   "language": "python",
   "name": "python3"
  },
  "language_info": {
   "codemirror_mode": {
    "name": "ipython",
    "version": 3
   },
   "file_extension": ".py",
   "mimetype": "text/x-python",
   "name": "python",
   "nbconvert_exporter": "python",
   "pygments_lexer": "ipython3",
   "version": "3.7.3"
  }
 },
 "nbformat": 4,
 "nbformat_minor": 2
}
