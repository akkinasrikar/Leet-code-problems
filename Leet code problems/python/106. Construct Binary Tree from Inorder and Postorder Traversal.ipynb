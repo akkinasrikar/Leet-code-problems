{
 "cells": [
  {
   "cell_type": "code",
   "execution_count": 15,
   "metadata": {},
   "outputs": [],
   "source": [
    "class TreeNode(object):\n",
    "    def __init__(self, val=0, left=None, right=None):\n",
    "            self.val = val\n",
    "            self.left = left\n",
    "            self.right = right"
   ]
  },
  {
   "cell_type": "code",
   "execution_count": 16,
   "metadata": {},
   "outputs": [],
   "source": [
    "class Solution:\n",
    "    def buildTree(self,inorder,postorder,):\n",
    "        dictr={}\n",
    "        for i,e in enumerate(inorder):\n",
    "            dictr[e]=i\n",
    "            \n",
    "        pindex=len(postorder)-1\n",
    "        return self.construct(0,len(inorder)-1,postorder,pindex,dictr)[0]\n",
    "    \n",
    "    def construct(self,start,end,postorder,pindex,dictr):\n",
    "        \n",
    "        if start>end:\n",
    "            return None,pindex\n",
    "        \n",
    "        root=TreeNode(postorder[pindex])\n",
    "        pindex=pindex-1\n",
    "        index=dictr[root.val]\n",
    "        root.right,pindex=self.construct(index+1,end,postorder,pindex,dictr)\n",
    "        root.left,pindex=self.construct(start,index-1,postorder,pindex,dictr)\n",
    "\n",
    "        return root,pindex\n",
    "    \n",
    "    def inorder(self,temp):\n",
    "        if temp==None:\n",
    "            return\n",
    "        \n",
    "        self.inorder(temp.left)\n",
    "        print(temp.val,end=\" \")\n",
    "        self.inorder(temp.right)\n",
    "        \n",
    "    def postorder(self,temp):\n",
    "        if temp==None:\n",
    "            return\n",
    "        \n",
    "        self.postorder(temp.left)\n",
    "        self.postorder(temp.right)\n",
    "        print(temp.val,end=\" \")"
   ]
  },
  {
   "cell_type": "code",
   "execution_count": 17,
   "metadata": {},
   "outputs": [],
   "source": [
    "tree=Solution()"
   ]
  },
  {
   "cell_type": "code",
   "execution_count": 18,
   "metadata": {},
   "outputs": [],
   "source": [
    "inorder = [9,3,15,20,7]\n",
    "postorder = [9,15,7,20,3]"
   ]
  },
  {
   "cell_type": "code",
   "execution_count": 19,
   "metadata": {},
   "outputs": [],
   "source": [
    "r=tree.buildTree(inorder,postorder)"
   ]
  },
  {
   "cell_type": "code",
   "execution_count": 20,
   "metadata": {},
   "outputs": [
    {
     "name": "stdout",
     "output_type": "stream",
     "text": [
      "9 15 7 20 3 "
     ]
    }
   ],
   "source": [
    "tree.postorder(r)"
   ]
  },
  {
   "cell_type": "code",
   "execution_count": 21,
   "metadata": {},
   "outputs": [
    {
     "name": "stdout",
     "output_type": "stream",
     "text": [
      "9 3 15 20 7 "
     ]
    }
   ],
   "source": [
    "tree.inorder(r)"
   ]
  },
  {
   "cell_type": "code",
   "execution_count": null,
   "metadata": {},
   "outputs": [],
   "source": []
  },
  {
   "cell_type": "code",
   "execution_count": null,
   "metadata": {},
   "outputs": [],
   "source": []
  }
 ],
 "metadata": {
  "kernelspec": {
   "display_name": "Python 3",
   "language": "python",
   "name": "python3"
  },
  "language_info": {
   "codemirror_mode": {
    "name": "ipython",
    "version": 3
   },
   "file_extension": ".py",
   "mimetype": "text/x-python",
   "name": "python",
   "nbconvert_exporter": "python",
   "pygments_lexer": "ipython3",
   "version": "3.7.3"
  }
 },
 "nbformat": 4,
 "nbformat_minor": 2
}
