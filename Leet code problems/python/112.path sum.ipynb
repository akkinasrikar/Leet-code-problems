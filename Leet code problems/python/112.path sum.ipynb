{
 "cells": [
  {
   "cell_type": "code",
   "execution_count": 4,
   "metadata": {},
   "outputs": [],
   "source": [
    "class TreeNode(object):\n",
    "    def __init__(self, val=0, left=None, right=None):\n",
    "            self.val = val\n",
    "            self.left = left\n",
    "            self.right = right"
   ]
  },
  {
   "cell_type": "code",
   "execution_count": 49,
   "metadata": {},
   "outputs": [],
   "source": [
    "class Solution:\n",
    "    \n",
    "    def isSum(self,node,s):\n",
    "        if node is None:\n",
    "            return s==0\n",
    "        else:\n",
    "            a=0\n",
    "            ss=s-node.val\n",
    "            if(ss==0 and node.left==None and node.right==None):\n",
    "                return True\n",
    "            if node.left is not None:\n",
    "                a=a or self.isSum(node.left,ss)\n",
    "            if node.right is not None:\n",
    "                a=a or self.isSum(node.right,ss)\n",
    "            return a=\n",
    "    def printleaf(self,node):\n",
    "        if node is None:\n",
    "            return\n",
    "        if node.left is None and node.right is None:\n",
    "            print(node.val,end=\" \")\n",
    "        if node.left is not None:\n",
    "            self.printleaf(node.left)\n",
    "        if node.right is not None:\n",
    "            self.printleaf(node.right)"
   ]
  },
  {
   "cell_type": "code",
   "execution_count": null,
   "metadata": {},
   "outputs": [],
   "source": []
  },
  {
   "cell_type": "code",
   "execution_count": 50,
   "metadata": {},
   "outputs": [],
   "source": [
    "root=TreeNode(5)\n",
    "root.left=TreeNode(4)\n",
    "root.right=TreeNode(8)\n",
    "root.left.left=TreeNode(11)\n",
    "root.left.left.left=TreeNode(7)\n",
    "root.left.left.right=TreeNode(2)\n",
    "root.right.left=TreeNode(13)\n",
    "root.right.right=TreeNode(4)\n",
    "root.right.right.right=TreeNode(1)"
   ]
  },
  {
   "cell_type": "code",
   "execution_count": 51,
   "metadata": {},
   "outputs": [],
   "source": [
    "tree=Solution()"
   ]
  },
  {
   "cell_type": "code",
   "execution_count": 52,
   "metadata": {},
   "outputs": [
    {
     "name": "stdout",
     "output_type": "stream",
     "text": [
      "7 2 13 1 "
     ]
    }
   ],
   "source": [
    "tree.printleaf(root)"
   ]
  },
  {
   "cell_type": "code",
   "execution_count": 54,
   "metadata": {},
   "outputs": [
    {
     "data": {
      "text/plain": [
       "0"
      ]
     },
     "execution_count": 54,
     "metadata": {},
     "output_type": "execute_result"
    }
   ],
   "source": [
    "tree.isSum(root,20)"
   ]
  },
  {
   "cell_type": "code",
   "execution_count": null,
   "metadata": {},
   "outputs": [],
   "source": []
  }
 ],
 "metadata": {
  "kernelspec": {
   "display_name": "Python 3",
   "language": "python",
   "name": "python3"
  },
  "language_info": {
   "codemirror_mode": {
    "name": "ipython",
    "version": 3
   },
   "file_extension": ".py",
   "mimetype": "text/x-python",
   "name": "python",
   "nbconvert_exporter": "python",
   "pygments_lexer": "ipython3",
   "version": "3.7.3"
  }
 },
 "nbformat": 4,
 "nbformat_minor": 2
}
