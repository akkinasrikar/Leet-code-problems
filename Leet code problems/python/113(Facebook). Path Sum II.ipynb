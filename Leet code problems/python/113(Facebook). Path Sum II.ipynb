{
 "cells": [
  {
   "cell_type": "code",
   "execution_count": 2,
   "id": "18fb806c",
   "metadata": {},
   "outputs": [],
   "source": [
    "# class TreeNode:\n",
    "#     def __init__(self, val=0, left=None, right=None):\n",
    "#         self.val = val\n",
    "#         self.left = left\n",
    "#         self.right = right\n",
    "class Solution:\n",
    "    def pathSum(self, root, targetSum):\n",
    "        res=[]\n",
    "        self.dfs(root,targetSum,[],res)\n",
    "        return res\n",
    "    def dfs(self,root,targetSum,path,res):\n",
    "        if root is None:\n",
    "            return\n",
    "        if sum(path)==targetSum:\n",
    "            res.append(path)\n",
    "        self.dfs(root.left,targetSum,path+[root.val],res)\n",
    "        self.dfs(root.right,targetSum,path+[root.val],res)\n",
    "#above code fails in some cases"
   ]
  },
  {
   "cell_type": "code",
   "execution_count": 3,
   "id": "7ef07c51",
   "metadata": {},
   "outputs": [],
   "source": [
    "#more clean and works for all cases\n",
    "class Solution:\n",
    "    def pathSum(self, root, targetSum):\n",
    "        res=[]\n",
    "        self.dfs(root,targetSum,[],res)\n",
    "        return res\n",
    "    def dfs(self,root,targetSum,path,res):\n",
    "        if root:\n",
    "            if not root.left and not root.right and targetSum==root.val:\n",
    "                path.append(val)\n",
    "                res.append(path)\n",
    "            self.dfs(root.left,targetSum-root.val,path+[root.val],res)\n",
    "            self.dfs(root.right,targetSum-root.val,path+[root.val],res)"
   ]
  },
  {
   "cell_type": "code",
   "execution_count": null,
   "id": "5e93b968",
   "metadata": {},
   "outputs": [],
   "source": []
  }
 ],
 "metadata": {
  "kernelspec": {
   "display_name": "Python 3",
   "language": "python",
   "name": "python3"
  },
  "language_info": {
   "codemirror_mode": {
    "name": "ipython",
    "version": 3
   },
   "file_extension": ".py",
   "mimetype": "text/x-python",
   "name": "python",
   "nbconvert_exporter": "python",
   "pygments_lexer": "ipython3",
   "version": "3.7.10"
  }
 },
 "nbformat": 4,
 "nbformat_minor": 5
}
