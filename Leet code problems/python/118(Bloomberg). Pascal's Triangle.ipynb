{
 "cells": [
  {
   "cell_type": "code",
   "execution_count": 1,
   "id": "204be023",
   "metadata": {},
   "outputs": [],
   "source": [
    "class Solution:\n",
    "    def generate(self, numRows):\n",
    "        if numRows==1: return [[1]]\n",
    "        if numRows==2: return [[1],[1,1]]\n",
    "        l=[0,[1],[1,1]]\n",
    "        for i in range(3,numRows+1):\n",
    "            nw=[1]\n",
    "            j=0\n",
    "            while len(nw)!=i-1:\n",
    "                nw.append(l[i-1][j]+l[i-1][j+1])\n",
    "                j+=1\n",
    "            nw.append(1)\n",
    "            l.append(nw)\n",
    "        l.pop(0)\n",
    "        return l"
   ]
  },
  {
   "cell_type": "code",
   "execution_count": 2,
   "id": "9a23cfca",
   "metadata": {},
   "outputs": [],
   "source": [
    "s=Solution()"
   ]
  },
  {
   "cell_type": "code",
   "execution_count": 3,
   "id": "19a68c5a",
   "metadata": {},
   "outputs": [
    {
     "data": {
      "text/plain": [
       "[[1], [1, 1], [1, 2, 1], [1, 3, 3, 1], [1, 4, 6, 4, 1], [1, 5, 10, 10, 5, 1]]"
      ]
     },
     "execution_count": 3,
     "metadata": {},
     "output_type": "execute_result"
    }
   ],
   "source": [
    "s.generate(6)"
   ]
  },
  {
   "cell_type": "code",
   "execution_count": null,
   "id": "497656b1",
   "metadata": {},
   "outputs": [],
   "source": []
  }
 ],
 "metadata": {
  "kernelspec": {
   "display_name": "Python 3",
   "language": "python",
   "name": "python3"
  },
  "language_info": {
   "codemirror_mode": {
    "name": "ipython",
    "version": 3
   },
   "file_extension": ".py",
   "mimetype": "text/x-python",
   "name": "python",
   "nbconvert_exporter": "python",
   "pygments_lexer": "ipython3",
   "version": "3.7.10"
  }
 },
 "nbformat": 4,
 "nbformat_minor": 5
}
