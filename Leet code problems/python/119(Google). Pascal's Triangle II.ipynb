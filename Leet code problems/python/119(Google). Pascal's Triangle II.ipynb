{
 "cells": [
  {
   "cell_type": "code",
   "execution_count": null,
   "id": "125e322d",
   "metadata": {},
   "outputs": [],
   "source": [
    "class Solution:\n",
    "    def getRow(self, rowIndex):\n",
    "        numRows=rowIndex+1\n",
    "        if rowIndex==0: return [1]\n",
    "        if rowIndex==1: return [1,1]\n",
    "        l=[0,[1],[1,1]]\n",
    "        for i in range(3,numRows+1):\n",
    "            nw=[1]\n",
    "            j=0\n",
    "            while len(nw)!=i-1:\n",
    "                nw.append(l[i-1][j]+l[i-1][j+1])\n",
    "                j+=1\n",
    "            nw.append(1)\n",
    "            l.append(nw)\n",
    "        l.pop(0)\n",
    "        return l[rowIndex]"
   ]
  }
 ],
 "metadata": {
  "kernelspec": {
   "display_name": "Python 3",
   "language": "python",
   "name": "python3"
  },
  "language_info": {
   "codemirror_mode": {
    "name": "ipython",
    "version": 3
   },
   "file_extension": ".py",
   "mimetype": "text/x-python",
   "name": "python",
   "nbconvert_exporter": "python",
   "pygments_lexer": "ipython3",
   "version": "3.7.10"
  }
 },
 "nbformat": 4,
 "nbformat_minor": 5
}
