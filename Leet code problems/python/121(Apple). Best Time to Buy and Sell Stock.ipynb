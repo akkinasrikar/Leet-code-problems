{
 "cells": [
  {
   "cell_type": "code",
   "execution_count": 1,
   "id": "77f140e8",
   "metadata": {},
   "outputs": [],
   "source": [
    "class Solution:\n",
    "    def maxProfit(self, prices):\n",
    "        if not prices:\n",
    "            return 0\n",
    "        maxprofit=0\n",
    "        minpurchase=prices[0]\n",
    "        for i in range(1,len(prices)):\n",
    "            maxprofit=max(maxprofit,prices[i]-minpurchase)\n",
    "            minpurchase=min(minpurchase,prices[i])\n",
    "        return maxprofit\n",
    "        "
   ]
  },
  {
   "cell_type": "code",
   "execution_count": null,
   "id": "1982c287",
   "metadata": {},
   "outputs": [],
   "source": []
  }
 ],
 "metadata": {
  "kernelspec": {
   "display_name": "Python 3",
   "language": "python",
   "name": "python3"
  },
  "language_info": {
   "codemirror_mode": {
    "name": "ipython",
    "version": 3
   },
   "file_extension": ".py",
   "mimetype": "text/x-python",
   "name": "python",
   "nbconvert_exporter": "python",
   "pygments_lexer": "ipython3",
   "version": "3.7.10"
  }
 },
 "nbformat": 4,
 "nbformat_minor": 5
}
