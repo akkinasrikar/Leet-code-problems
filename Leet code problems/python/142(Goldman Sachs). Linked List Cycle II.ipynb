{
 "cells": [
  {
   "cell_type": "code",
   "execution_count": 2,
   "metadata": {},
   "outputs": [],
   "source": [
    "class Solution:\n",
    "    def detectCycle(self, head):\n",
    "        l=[]\n",
    "        while node:\n",
    "            if node not in l:\n",
    "                l.append(node)\n",
    "                node=node.next\n",
    "                continue\n",
    "            else:\n",
    "                return node\n",
    "        return None"
   ]
  },
  {
   "cell_type": "code",
   "execution_count": null,
   "metadata": {},
   "outputs": [],
   "source": [
    "def detectCycle(self, head):\n",
    "    slow, fast = head, head\n",
    "    while fast and fast.next:\n",
    "        slow = slow.next\n",
    "        fast = fast.next.next\n",
    "        if slow == fast:\n",
    "            slow2 = head\n",
    "            while slow != slow2:\n",
    "                slow = slow.next\n",
    "                slow2 = slow2.next\n",
    "            return slow\n",
    "    return Nonex`"
   ]
  }
 ],
 "metadata": {
  "kernelspec": {
   "display_name": "Python 3",
   "language": "python",
   "name": "python3"
  },
  "language_info": {
   "codemirror_mode": {
    "name": "ipython",
    "version": 3
   },
   "file_extension": ".py",
   "mimetype": "text/x-python",
   "name": "python",
   "nbconvert_exporter": "python",
   "pygments_lexer": "ipython3",
   "version": "3.7.3"
  }
 },
 "nbformat": 4,
 "nbformat_minor": 2
}
