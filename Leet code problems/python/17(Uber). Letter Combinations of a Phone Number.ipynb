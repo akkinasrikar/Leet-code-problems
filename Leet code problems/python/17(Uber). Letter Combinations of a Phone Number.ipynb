{
 "cells": [
  {
   "cell_type": "code",
   "execution_count": 1,
   "metadata": {},
   "outputs": [],
   "source": [
    "class Solution:\n",
    "    def letterCombinations(self, digits):\n",
    "        if digits==\"\":return []\n",
    "        phone={\"2\":[\"a\",\"b\",\"c\"],\n",
    "               \"3\":[\"d\",\"e\",\"f\"],\n",
    "               \"4\":[\"g\",\"h\",\"i\"],\n",
    "               \"5\":[\"j\",\"k\",\"l\"],\n",
    "               \"6\":[\"m\",\"n\",\"o\"],\n",
    "               \"7\":[\"p\",\"q\",\"r\",\"s\"],\n",
    "               \"8\":[\"t\",\"u\",\"v\"],\n",
    "               \"9\":[\"w\",\"x\",\"y\",\"z\"]}\n",
    "        l_d,result=len(digits),[]\n",
    "        def bfs(pos,st):\n",
    "            if pos==l_d:\n",
    "                result.append(st)\n",
    "            else:\n",
    "                letters=phone[digits[pos]]\n",
    "                for i in letters:\n",
    "                    bfs(pos+1,st+i)\n",
    "        bfs(0,\"\")\n",
    "        return result\n",
    "        "
   ]
  },
  {
   "cell_type": "code",
   "execution_count": 2,
   "metadata": {},
   "outputs": [],
   "source": [
    "s=Solution()"
   ]
  },
  {
   "cell_type": "code",
   "execution_count": 3,
   "metadata": {},
   "outputs": [
    {
     "data": {
      "text/plain": [
       "['aa', 'ab', 'ac', 'ba', 'bb', 'bc', 'ca', 'cb', 'cc']"
      ]
     },
     "execution_count": 3,
     "metadata": {},
     "output_type": "execute_result"
    }
   ],
   "source": [
    "s.letterCombinations(\"22\")"
   ]
  },
  {
   "cell_type": "code",
   "execution_count": 4,
   "metadata": {},
   "outputs": [],
   "source": [
    "class Solution:\n",
    "    def letterCombinations(self, digits):\n",
    "        b = {\"2\":\"abc\", \"3\":\"def\", \"4\":\"ghi\", \"5\":\"jkl\", \"6\":\"mno\", \"7\":\"pqrs\", \"8\":\"tuv\", \"9\":\"wxyz\"}\n",
    "        return [] if digits==\"\" else [\"\".join(x) for x in itertools.product((b[d] for d in digits))]"
   ]
  },
  {
   "cell_type": "code",
   "execution_count": 5,
   "metadata": {},
   "outputs": [],
   "source": [
    "b = {\"2\":\"abc\", \"3\":\"def\", \"4\":\"ghi\", \"5\":\"jkl\", \"6\":\"mno\", \"7\":\"pqrs\", \"8\":\"tuv\", \"9\":\"wxyz\"}"
   ]
  },
  {
   "cell_type": "code",
   "execution_count": 6,
   "metadata": {},
   "outputs": [
    {
     "data": {
      "text/plain": [
       "[('a', 'd', 'g'),\n",
       " ('a', 'd', 'h'),\n",
       " ('a', 'd', 'i'),\n",
       " ('a', 'e', 'g'),\n",
       " ('a', 'e', 'h'),\n",
       " ('a', 'e', 'i'),\n",
       " ('a', 'f', 'g'),\n",
       " ('a', 'f', 'h'),\n",
       " ('a', 'f', 'i'),\n",
       " ('b', 'd', 'g'),\n",
       " ('b', 'd', 'h'),\n",
       " ('b', 'd', 'i'),\n",
       " ('b', 'e', 'g'),\n",
       " ('b', 'e', 'h'),\n",
       " ('b', 'e', 'i'),\n",
       " ('b', 'f', 'g'),\n",
       " ('b', 'f', 'h'),\n",
       " ('b', 'f', 'i'),\n",
       " ('c', 'd', 'g'),\n",
       " ('c', 'd', 'h'),\n",
       " ('c', 'd', 'i'),\n",
       " ('c', 'e', 'g'),\n",
       " ('c', 'e', 'h'),\n",
       " ('c', 'e', 'i'),\n",
       " ('c', 'f', 'g'),\n",
       " ('c', 'f', 'h'),\n",
       " ('c', 'f', 'i')]"
      ]
     },
     "execution_count": 6,
     "metadata": {},
     "output_type": "execute_result"
    }
   ],
   "source": [
    "from itertools import product\n",
    "list(product(*(b[d] for d in \"234\")))"
   ]
  },
  {
   "cell_type": "code",
   "execution_count": null,
   "metadata": {},
   "outputs": [],
   "source": []
  }
 ],
 "metadata": {
  "kernelspec": {
   "display_name": "Python 3",
   "language": "python",
   "name": "python3"
  },
  "language_info": {
   "codemirror_mode": {
    "name": "ipython",
    "version": 3
   },
   "file_extension": ".py",
   "mimetype": "text/x-python",
   "name": "python",
   "nbconvert_exporter": "python",
   "pygments_lexer": "ipython3",
   "version": "3.7.3"
  }
 },
 "nbformat": 4,
 "nbformat_minor": 2
}
