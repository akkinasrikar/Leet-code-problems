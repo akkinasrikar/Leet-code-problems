{
 "cells": [
  {
   "cell_type": "code",
   "execution_count": 1,
   "id": "52423dd3",
   "metadata": {},
   "outputs": [],
   "source": [
    "class Solution:\n",
    "    def titleToNumber(self,columnTitle):\n",
    "        l=len(columnTitle)\n",
    "        t,res=l,0\n",
    "        for i in range(l-1):\n",
    "            res=res+(ord(columnTitle[i])-64)*self.get(t-1)\n",
    "            t-=1\n",
    "        res=res+ord(columnTitle[-1])-64\n",
    "        return res\n",
    "    def get(self,n):\n",
    "        return 26**n\n",
    "        "
   ]
  },
  {
   "cell_type": "code",
   "execution_count": 2,
   "id": "01a60bcf",
   "metadata": {},
   "outputs": [],
   "source": [
    "s=Solution()"
   ]
  },
  {
   "cell_type": "code",
   "execution_count": 3,
   "id": "53e7abad",
   "metadata": {},
   "outputs": [
    {
     "data": {
      "text/plain": [
       "2147483647"
      ]
     },
     "execution_count": 3,
     "metadata": {},
     "output_type": "execute_result"
    }
   ],
   "source": [
    "s.titleToNumber(\"FXSHRXW\")"
   ]
  },
  {
   "cell_type": "code",
   "execution_count": 4,
   "id": "708d9616",
   "metadata": {},
   "outputs": [
    {
     "data": {
      "text/plain": [
       "25"
      ]
     },
     "execution_count": 4,
     "metadata": {},
     "output_type": "execute_result"
    }
   ],
   "source": [
    "701%26"
   ]
  },
  {
   "cell_type": "code",
   "execution_count": 5,
   "id": "b92d3fcf",
   "metadata": {},
   "outputs": [
    {
     "data": {
      "text/plain": [
       "26"
      ]
     },
     "execution_count": 5,
     "metadata": {},
     "output_type": "execute_result"
    }
   ],
   "source": [
    "701//26"
   ]
  },
  {
   "cell_type": "code",
   "execution_count": 6,
   "id": "5b97e73c",
   "metadata": {},
   "outputs": [],
   "source": [
    "class Solution:\n",
    "    def convertToTitle(self, columnNumber):\n",
    "        res=\"\"\n",
    "        while columnNumber>0:\n",
    "            columnNumber -=1\n",
    "            r=columnNumber%26\n",
    "            res=res+chr(r+65)\n",
    "            columnNumber //=26\n",
    "        return res[::-1]"
   ]
  },
  {
   "cell_type": "code",
   "execution_count": 7,
   "id": "43c9e5fe",
   "metadata": {},
   "outputs": [],
   "source": [
    "s=Solution()"
   ]
  },
  {
   "cell_type": "code",
   "execution_count": 8,
   "id": "32de28ca",
   "metadata": {},
   "outputs": [
    {
     "data": {
      "text/plain": [
       "'ZY'"
      ]
     },
     "execution_count": 8,
     "metadata": {},
     "output_type": "execute_result"
    }
   ],
   "source": [
    "s.convertToTitle(701)"
   ]
  },
  {
   "cell_type": "code",
   "execution_count": null,
   "id": "be2f7620",
   "metadata": {},
   "outputs": [],
   "source": []
  }
 ],
 "metadata": {
  "kernelspec": {
   "display_name": "Python 3",
   "language": "python",
   "name": "python3"
  },
  "language_info": {
   "codemirror_mode": {
    "name": "ipython",
    "version": 3
   },
   "file_extension": ".py",
   "mimetype": "text/x-python",
   "name": "python",
   "nbconvert_exporter": "python",
   "pygments_lexer": "ipython3",
   "version": "3.7.10"
  }
 },
 "nbformat": 4,
 "nbformat_minor": 5
}
