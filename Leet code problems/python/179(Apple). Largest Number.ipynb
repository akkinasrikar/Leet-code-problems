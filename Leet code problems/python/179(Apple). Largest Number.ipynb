{
 "cells": [
  {
   "cell_type": "code",
   "execution_count": 1,
   "id": "013ef0b5",
   "metadata": {},
   "outputs": [],
   "source": [
    "class Solution:\n",
    "    def __init__(self):\n",
    "        self.m=0\n",
    "    def largestNumber(self, nums):\n",
    "        nums=list(map(str,nums))\n",
    "        self.dfs(nums,0,len(nums)-1)\n",
    "        return str(self.m)\n",
    "    def tostring(self,numbers):\n",
    "        return \"\".join(numbers)\n",
    "    def dfs(self,nums,l,r):\n",
    "        if l==r:\n",
    "            number=int(self.tostring(nums))\n",
    "            if self.m<number:\n",
    "                self.m=number\n",
    "            return\n",
    "        else:\n",
    "            for i in range(l,r+1):\n",
    "                nums[i],nums[l]=nums[l],nums[i]\n",
    "                self.dfs(nums,l+1,r)\n",
    "                nums[i],nums[l]=nums[l],nums[i]\n",
    "        "
   ]
  },
  {
   "cell_type": "code",
   "execution_count": 2,
   "id": "29e460c1",
   "metadata": {},
   "outputs": [],
   "source": [
    "s=Solution()"
   ]
  },
  {
   "cell_type": "code",
   "execution_count": 3,
   "id": "8934abb1",
   "metadata": {},
   "outputs": [
    {
     "data": {
      "text/plain": [
       "'9534330'"
      ]
     },
     "execution_count": 3,
     "metadata": {},
     "output_type": "execute_result"
    }
   ],
   "source": [
    "s.largestNumber([3,30,34,5,9])"
   ]
  },
  {
   "cell_type": "code",
   "execution_count": 4,
   "id": "6db37d9f",
   "metadata": {},
   "outputs": [],
   "source": [
    "import functools\n",
    "class Solution:\n",
    "    def largestNumber(self, nums):\n",
    "        def compare(n1,n2):\n",
    "            if int(n1+n2)<int(n2+n1): return -1\n",
    "            if int(n1+n2)>int(n2+n1): return 1\n",
    "            return 0\n",
    "        nums=list(map(str,nums))\n",
    "        nums=sorted(nums,key=functools.cmp_to_key(compare),reverse=True)\n",
    "        if nums[0]==\"0\":\n",
    "            return \"0\"\n",
    "        return \"\".join(nums)\n",
    "        "
   ]
  },
  {
   "cell_type": "code",
   "execution_count": 5,
   "id": "906ff625",
   "metadata": {},
   "outputs": [],
   "source": [
    "s=Solution()"
   ]
  },
  {
   "cell_type": "code",
   "execution_count": 6,
   "id": "8147bf4a",
   "metadata": {},
   "outputs": [
    {
     "data": {
      "text/plain": [
       "'9534330'"
      ]
     },
     "execution_count": 6,
     "metadata": {},
     "output_type": "execute_result"
    }
   ],
   "source": [
    "s.largestNumber([3,30,34,5,9])"
   ]
  },
  {
   "cell_type": "code",
   "execution_count": null,
   "id": "f9da87f9",
   "metadata": {},
   "outputs": [],
   "source": []
  }
 ],
 "metadata": {
  "kernelspec": {
   "display_name": "Python 3",
   "language": "python",
   "name": "python3"
  },
  "language_info": {
   "codemirror_mode": {
    "name": "ipython",
    "version": 3
   },
   "file_extension": ".py",
   "mimetype": "text/x-python",
   "name": "python",
   "nbconvert_exporter": "python",
   "pygments_lexer": "ipython3",
   "version": "3.7.10"
  }
 },
 "nbformat": 4,
 "nbformat_minor": 5
}
