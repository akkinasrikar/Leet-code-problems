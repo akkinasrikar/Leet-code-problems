{
 "cells": [
  {
   "cell_type": "code",
   "execution_count": 1,
   "metadata": {},
   "outputs": [],
   "source": [
    "class ListNode:\n",
    "     def __init__(self, val=0, next=None):\n",
    "            self.val = val\n",
    "            self.next = next\n",
    "class Solution:\n",
    "    def removeElements(self, head, val):\n",
    "        if head==None:\n",
    "            return None\n",
    "        get_val,get_add=self.Node(head,[],[])\n",
    "        new_list=[]\n",
    "        l=len(get_val)\n",
    "        for i in range(l):\n",
    "            if get_val[i]!=val:\n",
    "                new_list.append(get_add[i])\n",
    "        if new_list==[]:\n",
    "            return None\n",
    "        for i in range(len(new_list)-1):\n",
    "            new_list[i].next=new_list[i+1]\n",
    "        new_list[-1].next=None\n",
    "        return new_list[0]\n",
    "        \n",
    "    def Node(self,node,res,add):\n",
    "        if node != None:\n",
    "            res.append(node.val)\n",
    "            add.append(node)\n",
    "            self.Node(node.next,res,add)\n",
    "        return res,add\n",
    "            \n",
    "    def display(self,node):\n",
    "        if node!=None:\n",
    "            print(node.val,end=\" \")\n",
    "            self.display(node.next)\n",
    "        "
   ]
  },
  {
   "cell_type": "code",
   "execution_count": 2,
   "metadata": {},
   "outputs": [],
   "source": [
    "a=ListNode(7)\n",
    "b=ListNode(7,a)\n",
    "c=ListNode(7,b)\n",
    "d=ListNode(7,c)"
   ]
  },
  {
   "cell_type": "code",
   "execution_count": 3,
   "metadata": {},
   "outputs": [],
   "source": [
    "s=Solution()"
   ]
  },
  {
   "cell_type": "code",
   "execution_count": 4,
   "metadata": {},
   "outputs": [
    {
     "name": "stdout",
     "output_type": "stream",
     "text": [
      "7 7 7 7 "
     ]
    }
   ],
   "source": [
    "s.display(d)"
   ]
  },
  {
   "cell_type": "code",
   "execution_count": 5,
   "metadata": {},
   "outputs": [],
   "source": [
    "ad=s.removeElements(d,7)"
   ]
  },
  {
   "cell_type": "code",
   "execution_count": 6,
   "metadata": {},
   "outputs": [],
   "source": [
    "s.display(ad)"
   ]
  },
  {
   "cell_type": "code",
   "execution_count": 7,
   "metadata": {},
   "outputs": [],
   "source": [
    "class ListNode:\n",
    "     def __init__(self, val=0, next=None):\n",
    "            self.val = val\n",
    "            self.next = next\n",
    "class Solution:\n",
    "    def removeElements(self, head, val):\n",
    "        if head==None:return head\n",
    "        temp=head\n",
    "        while temp and temp.next:\n",
    "            if temp.next.val==val: temp.next=temp.next.next\n",
    "            else: temp=temp.next\n",
    "        return head if head.val!=val else head.next"
   ]
  },
  {
   "cell_type": "code",
   "execution_count": null,
   "metadata": {},
   "outputs": [],
   "source": []
  }
 ],
 "metadata": {
  "kernelspec": {
   "display_name": "Python 3",
   "language": "python",
   "name": "python3"
  },
  "language_info": {
   "codemirror_mode": {
    "name": "ipython",
    "version": 3
   },
   "file_extension": ".py",
   "mimetype": "text/x-python",
   "name": "python",
   "nbconvert_exporter": "python",
   "pygments_lexer": "ipython3",
   "version": "3.7.3"
  }
 },
 "nbformat": 4,
 "nbformat_minor": 2
}
