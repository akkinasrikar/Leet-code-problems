{
 "cells": [
  {
   "cell_type": "code",
   "execution_count": 1,
   "id": "68e7062e",
   "metadata": {},
   "outputs": [],
   "source": [
    "class Solution:\n",
    "    def isIsomorphic(self, s,t):\n",
    "        d=list(zip(s,t))\n",
    "        temp={}\n",
    "        for i,j in d:\n",
    "            if (i not in temp.keys()) and (j not in temp.values()):\n",
    "                temp[i]=j\n",
    "            elif (i not in temp.keys()) and (j in temp.values()):\n",
    "                return False\n",
    "            elif (i in temp.keys()) and (j not in temp.values()):\n",
    "                return False\n",
    "            elif (i in temp.keys()) and (j in temp.values()):\n",
    "                if temp[i]==j:\n",
    "                    continue\n",
    "                else:\n",
    "                    return False\n",
    "        return True\n",
    "            "
   ]
  },
  {
   "cell_type": "code",
   "execution_count": 2,
   "id": "15098f3a",
   "metadata": {},
   "outputs": [],
   "source": [
    "s=Solution()"
   ]
  },
  {
   "cell_type": "code",
   "execution_count": 3,
   "id": "fb2fab44",
   "metadata": {},
   "outputs": [
    {
     "data": {
      "text/plain": [
       "False"
      ]
     },
     "execution_count": 3,
     "metadata": {},
     "output_type": "execute_result"
    }
   ],
   "source": [
    "s.isIsomorphic(\"bbbaaaba\",\"aaabbbba\")"
   ]
  },
  {
   "cell_type": "code",
   "execution_count": 4,
   "id": "c98edf48",
   "metadata": {},
   "outputs": [
    {
     "data": {
      "text/plain": [
       "'aaabbbba'"
      ]
     },
     "execution_count": 4,
     "metadata": {},
     "output_type": "execute_result"
    }
   ],
   "source": [
    "\"bbbaaaba\"\n",
    "\"aaabbbba\"\n"
   ]
  }
 ],
 "metadata": {
  "kernelspec": {
   "display_name": "Python 3",
   "language": "python",
   "name": "python3"
  },
  "language_info": {
   "codemirror_mode": {
    "name": "ipython",
    "version": 3
   },
   "file_extension": ".py",
   "mimetype": "text/x-python",
   "name": "python",
   "nbconvert_exporter": "python",
   "pygments_lexer": "ipython3",
   "version": "3.7.10"
  }
 },
 "nbformat": 4,
 "nbformat_minor": 5
}
