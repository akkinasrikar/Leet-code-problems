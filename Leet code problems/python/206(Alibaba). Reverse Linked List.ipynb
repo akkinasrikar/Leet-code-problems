{
 "cells": [
  {
   "cell_type": "code",
   "execution_count": 1,
   "metadata": {},
   "outputs": [],
   "source": [
    "class ListNode:\n",
    "    def __init__(self, val=0, next=None):\n",
    "        self.val = val\n",
    "        self.next = next\n",
    "class Solution:\n",
    "    def reverseList(self, head):\n",
    "        if head==None: return head\n",
    "        get_nodes=self.Node(head,[])\n",
    "        l=len(get_nodes)\n",
    "        if l==1:return get_nodes[0]\n",
    "        for i in range(l-1,0,-1):\n",
    "            get_nodes[i].next=get_nodes[i-1]\n",
    "        get_nodes[0].next=None\n",
    "        return get_nodes[-1]\n",
    "    def Node(self,node,res):\n",
    "        if node != None:\n",
    "            res.append(node)\n",
    "            self.Node(node.next,res)\n",
    "        return res\n",
    "            "
   ]
  },
  {
   "cell_type": "code",
   "execution_count": 2,
   "metadata": {},
   "outputs": [],
   "source": [
    "class Solution:\n",
    "    def reverseList(self, head):\n",
    "        pre=None\n",
    "        cur=head\n",
    "        nex=None\n",
    "        while(cur):\n",
    "            nex=cur.next\n",
    "            cur.next=pre\n",
    "            pre=cur\n",
    "            cur=nex\n",
    "        return pre\n",
    "            "
   ]
  }
 ],
 "metadata": {
  "kernelspec": {
   "display_name": "Python 3",
   "language": "python",
   "name": "python3"
  },
  "language_info": {
   "codemirror_mode": {
    "name": "ipython",
    "version": 3
   },
   "file_extension": ".py",
   "mimetype": "text/x-python",
   "name": "python",
   "nbconvert_exporter": "python",
   "pygments_lexer": "ipython3",
   "version": "3.7.3"
  }
 },
 "nbformat": 4,
 "nbformat_minor": 2
}
