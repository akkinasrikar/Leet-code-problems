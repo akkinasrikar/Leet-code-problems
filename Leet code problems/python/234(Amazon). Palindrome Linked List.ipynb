{
 "cells": [
  {
   "cell_type": "code",
   "execution_count": 1,
   "metadata": {},
   "outputs": [],
   "source": [
    "# Definition for singly-linked list.\n",
    "# class ListNode:\n",
    "#     def __init__(self, val=0, next=None):\n",
    "#         self.val = val\n",
    "#         self.next = next\n",
    "class Solution:\n",
    "    def isPalindrome(self, head):\n",
    "        r=self.getnodes(head,[])\n",
    "        return r==r[::-1]\n",
    "    def getnodes(self,node,res):\n",
    "        if node!=None:\n",
    "            res.append(node.val)\n",
    "            self.getnodes(node.next,res)\n",
    "        return res"
   ]
  },
  {
   "cell_type": "code",
   "execution_count": 2,
   "metadata": {},
   "outputs": [],
   "source": [
    "class Solution:\n",
    "    def isPalindrome(self, head):\n",
    "        slow,fast=head\n",
    "        while fast and fast.next:\n",
    "            fast=fast.next.next\n",
    "            slow=slow.next\n",
    "        node=None\n",
    "        while slow:\n",
    "            nxt=slow.next\n",
    "            slow.next=node\n",
    "            node=slow\n",
    "            slow=nxt\n",
    "        while node:\n",
    "            if node.val!=head.val:\n",
    "                return False\n",
    "            node=node.next\n",
    "            head=head.next\n",
    "        return True"
   ]
  }
 ],
 "metadata": {
  "kernelspec": {
   "display_name": "Python 3",
   "language": "python",
   "name": "python3"
  },
  "language_info": {
   "codemirror_mode": {
    "name": "ipython",
    "version": 3
   },
   "file_extension": ".py",
   "mimetype": "text/x-python",
   "name": "python",
   "nbconvert_exporter": "python",
   "pygments_lexer": "ipython3",
   "version": "3.7.3"
  }
 },
 "nbformat": 4,
 "nbformat_minor": 2
}
