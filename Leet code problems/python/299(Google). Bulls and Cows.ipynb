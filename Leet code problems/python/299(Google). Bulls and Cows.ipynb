{
 "cells": [
  {
   "cell_type": "code",
   "execution_count": 1,
   "metadata": {},
   "outputs": [],
   "source": [
    "import numpy as np\n",
    "class Solution(object):\n",
    "    def getHint(self, secret, guess):\n",
    "        secret,guess=list(secret),list(guess)\n",
    "        bool_array=np.array(secret)==np.array(guess)\n",
    "        bulls=np.count_nonzero(bool_array)\n",
    "        b_array=np.where(bool_array==True)\n",
    "        print(b_array)\n",
    "        new_secret=[]\n",
    "        for i in range(len(secret)):\n",
    "            if i not in b_array[0]:\n",
    "                new_secret.append(secret[i])\n",
    "        c_array=np.where(bool_array==False)\n",
    "        cows=0\n",
    "        for i in c_array[0]:\n",
    "            if guess[i] in new_secret:\n",
    "                g=guess[i]\n",
    "                idx=new_secret.index(g)\n",
    "                new_secret.pop(idx)\n",
    "                cows=cows+1\n",
    "        return str(bulls)+\"A\"+str(cows)+\"B\"\n",
    "        "
   ]
  },
  {
   "cell_type": "code",
   "execution_count": 2,
   "metadata": {},
   "outputs": [],
   "source": [
    "s=Solution()"
   ]
  },
  {
   "cell_type": "code",
   "execution_count": 3,
   "metadata": {},
   "outputs": [
    {
     "name": "stdout",
     "output_type": "stream",
     "text": [
      "(array([], dtype=int64),)\n"
     ]
    },
    {
     "data": {
      "text/plain": [
       "'0A4B'"
      ]
     },
     "execution_count": 3,
     "metadata": {},
     "output_type": "execute_result"
    }
   ],
   "source": [
    "s.getHint(\"1122\",\"2211\")"
   ]
  },
  {
   "cell_type": "code",
   "execution_count": 5,
   "metadata": {},
   "outputs": [],
   "source": [
    "n=\"1123\""
   ]
  },
  {
   "cell_type": "code",
   "execution_count": 9,
   "metadata": {},
   "outputs": [],
   "source": [
    "from collections import Counter"
   ]
  },
  {
   "cell_type": "code",
   "execution_count": 10,
   "metadata": {},
   "outputs": [
    {
     "data": {
      "text/plain": [
       "Counter({'1': 2, '2': 1, '3': 1})"
      ]
     },
     "execution_count": 10,
     "metadata": {},
     "output_type": "execute_result"
    }
   ],
   "source": [
    "Counter(n)"
   ]
  },
  {
   "cell_type": "code",
   "execution_count": 20,
   "metadata": {},
   "outputs": [
    {
     "name": "stdout",
     "output_type": "stream",
     "text": [
      "Counter({'1': 1, '8': 1})\n"
     ]
    }
   ],
   "source": [
    "secret,guess=\"1801\",\"7815\"\n",
    "s, g = Counter(secret), Counter(guess)\n",
    "a = sum(i == j for i, j in zip(secret, guess))\n",
    "res='%sA%sB' % (a, sum((s & g).values()) - a)\n",
    "print(s&g)"
   ]
  },
  {
   "cell_type": "code",
   "execution_count": null,
   "metadata": {},
   "outputs": [],
   "source": [
    "from collections import Counter\n",
    "class Solution(object):\n",
    "    def getHint(self, secret, guess):\n",
    "        s, g = Counter(secret), Counter(guess)\n",
    "        a = sum(i == j for i, j in zip(secret, guess))\n",
    "        res='%sA%sB' % (a, sum((s & g).values()) - a)\n",
    "        return res\n",
    "        "
   ]
  }
 ],
 "metadata": {
  "kernelspec": {
   "display_name": "Python 3",
   "language": "python",
   "name": "python3"
  },
  "language_info": {
   "codemirror_mode": {
    "name": "ipython",
    "version": 3
   },
   "file_extension": ".py",
   "mimetype": "text/x-python",
   "name": "python",
   "nbconvert_exporter": "python",
   "pygments_lexer": "ipython3",
   "version": "3.7.3"
  }
 },
 "nbformat": 4,
 "nbformat_minor": 2
}
