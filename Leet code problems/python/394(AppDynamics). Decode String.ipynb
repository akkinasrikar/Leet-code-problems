{
 "cells": [
  {
   "cell_type": "code",
   "execution_count": 1,
   "id": "4a3a002d",
   "metadata": {},
   "outputs": [],
   "source": [
    "class Solution:\n",
    "    def decodeString(self, s):\n",
    "        if \"[\" in s:\n",
    "            st,ed=0,0\n",
    "            for i in range(len(s)):\n",
    "                if s[i]==\"[\":\n",
    "                    st=i\n",
    "                elif s[i]==\"]\":\n",
    "                    ed=i\n",
    "                    break\n",
    "            n=\"\"\n",
    "            ne=st-1\n",
    "            while True:\n",
    "                if 48<=ord(s[ne])<=57:\n",
    "                    n=s[ne]+n\n",
    "                    ne=ne-1\n",
    "                else:\n",
    "                    break\n",
    "            o_s=n+s[st:ed+1]\n",
    "            nw=s[st+1:ed]*int(n)\n",
    "            s=s.replace(o_s,nw)\n",
    "            return self.decodeString(s)\n",
    "        else:\n",
    "            return s\n",
    "            \n",
    "            "
   ]
  },
  {
   "cell_type": "code",
   "execution_count": 2,
   "id": "611542fe",
   "metadata": {},
   "outputs": [],
   "source": [
    "t=Solution()"
   ]
  },
  {
   "cell_type": "code",
   "execution_count": 3,
   "id": "dfb59a6a",
   "metadata": {},
   "outputs": [
    {
     "data": {
      "text/plain": [
       "'aaabcbc'"
      ]
     },
     "execution_count": 3,
     "metadata": {},
     "output_type": "execute_result"
    }
   ],
   "source": [
    "t.decodeString(\"3[a]2[bc]\")"
   ]
  },
  {
   "cell_type": "code",
   "execution_count": null,
   "id": "588d21f7",
   "metadata": {},
   "outputs": [],
   "source": []
  }
 ],
 "metadata": {
  "kernelspec": {
   "display_name": "Python 3",
   "language": "python",
   "name": "python3"
  },
  "language_info": {
   "codemirror_mode": {
    "name": "ipython",
    "version": 3
   },
   "file_extension": ".py",
   "mimetype": "text/x-python",
   "name": "python",
   "nbconvert_exporter": "python",
   "pygments_lexer": "ipython3",
   "version": "3.7.10"
  }
 },
 "nbformat": 4,
 "nbformat_minor": 5
}
