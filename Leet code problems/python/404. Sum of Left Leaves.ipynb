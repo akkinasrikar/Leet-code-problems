{
 "cells": [
  {
   "cell_type": "code",
   "execution_count": null,
   "id": "e4e929e3",
   "metadata": {},
   "outputs": [],
   "source": [
    "# Definition for a binary tree node.\n",
    "# class TreeNode:\n",
    "#     def __init__(self, val=0, left=None, right=None):\n",
    "#         self.val = val\n",
    "#         self.left = left\n",
    "#         self.right = right\n",
    "class Solution:\n",
    "    def sumOfLeftLeaves(self, root: Optional[TreeNode]) -> int:\n",
    "        if root.left==None and root.right==None: return 0\n",
    "        res=[0]\n",
    "        self.dfs(root,\"root\",res)\n",
    "        return sum(res)\n",
    "        \n",
    "    def dfs(self,node,path,res):\n",
    "        if path==\"left\" and node.left==None and node.right==None:\n",
    "            res.append(node.val)\n",
    "            return\n",
    "        if node.left!=None:\n",
    "            self.dfs(node.left,\"left\",res)\n",
    "        if node.right!=None:\n",
    "            self.dfs(node.right,\"right\",res)\n",
    "            \n",
    "    \n",
    "        \n",
    "        "
   ]
  }
 ],
 "metadata": {
  "kernelspec": {
   "display_name": "Python 3",
   "language": "python",
   "name": "python3"
  },
  "language_info": {
   "codemirror_mode": {
    "name": "ipython",
    "version": 3
   },
   "file_extension": ".py",
   "mimetype": "text/x-python",
   "name": "python",
   "nbconvert_exporter": "python",
   "pygments_lexer": "ipython3",
   "version": "3.7.10"
  }
 },
 "nbformat": 4,
 "nbformat_minor": 5
}
