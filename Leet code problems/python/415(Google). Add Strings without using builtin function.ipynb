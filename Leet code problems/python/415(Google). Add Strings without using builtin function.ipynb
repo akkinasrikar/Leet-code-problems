{
 "cells": [
  {
   "cell_type": "code",
   "execution_count": 1,
   "id": "069a3de9",
   "metadata": {},
   "outputs": [],
   "source": [
    "class Solution:\n",
    "    def addStrings(self, num1,num2):\n",
    "        d={48: 0, 49: 1, 50: 2, 51: 3, 52: 4, 53: 5, 54: 6, 55: 7, 56: 8, 57: 9}\n",
    "        n1,n2=self.convert(num1,d),self.convert(num2,d)\n",
    "        res=self.add(n1,n2)\n",
    "        return str(res)\n",
    "    def add(self,x,y):\n",
    "        if y==0: return x\n",
    "        else: return self.add(x^y,(x&y)<<1)\n",
    "    def convert(self,num,d):\n",
    "        l=len(num)-1\n",
    "        t=10**l\n",
    "        s,i=0,0\n",
    "        while l>=0:\n",
    "            s=s+d[ord(num[i])]*t\n",
    "            t,i,l=t//10,i+1,l-1\n",
    "        return s"
   ]
  },
  {
   "cell_type": "code",
   "execution_count": 2,
   "id": "20dc7798",
   "metadata": {},
   "outputs": [],
   "source": [
    "s=Solution()"
   ]
  },
  {
   "cell_type": "code",
   "execution_count": 3,
   "id": "5536fbe0",
   "metadata": {},
   "outputs": [
    {
     "data": {
      "text/plain": [
       "'10'"
      ]
     },
     "execution_count": 3,
     "metadata": {},
     "output_type": "execute_result"
    }
   ],
   "source": [
    "s.addStrings(\"1\",\"9\")"
   ]
  },
  {
   "cell_type": "code",
   "execution_count": null,
   "id": "f0238eb9",
   "metadata": {},
   "outputs": [],
   "source": []
  },
  {
   "cell_type": "code",
   "execution_count": null,
   "id": "322080ca",
   "metadata": {},
   "outputs": [],
   "source": []
  }
 ],
 "metadata": {
  "kernelspec": {
   "display_name": "Python 3",
   "language": "python",
   "name": "python3"
  },
  "language_info": {
   "codemirror_mode": {
    "name": "ipython",
    "version": 3
   },
   "file_extension": ".py",
   "mimetype": "text/x-python",
   "name": "python",
   "nbconvert_exporter": "python",
   "pygments_lexer": "ipython3",
   "version": "3.7.10"
  }
 },
 "nbformat": 4,
 "nbformat_minor": 5
}
