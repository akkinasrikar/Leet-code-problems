{
 "cells": [
  {
   "cell_type": "code",
   "execution_count": null,
   "id": "7af4f512",
   "metadata": {},
   "outputs": [],
   "source": [
    "\"\"\"\n",
    "class Node:\n",
    "    def __init__(self, val, prev, next, child):\n",
    "        self.val = val\n",
    "        self.prev = prev\n",
    "        self.next = next\n",
    "        self.child = child\n",
    "\n",
    "class Solution:\n",
    "    def flatten(self, head):\n",
    "        start=head\n",
    "        temp=head\n",
    "        while temp.next!=None:\n",
    "            if temp.child==None:\n",
    "                temp=temp.next\n",
    "            else:\n",
    "                tnext=temp.next\n",
    "                temp=self.connect(temp.child,tnext)\n",
    "                temp.next=tnext\n",
    "        return head\n",
    "    def connect(self,ch):\n",
    "        tp=ch\n",
    "        while tp.next!=None:\n",
    "            if tp.child==None:\n",
    "                tp=tp.next\n",
    "            else:\n",
    "                tnx=tp.next\n",
    "                t=self.connect(tp.child)\n",
    "                t.next=tnx\n",
    "        return tp\n",
    "            \n",
    "\"\"\"\n",
    "        "
   ]
  },
  {
   "cell_type": "code",
   "execution_count": 5,
   "id": "bd1455c7",
   "metadata": {},
   "outputs": [],
   "source": [
    "class Solution:\n",
    "    def flatten(self, head):\n",
    "        if not head: return None\n",
    "        self.connect(head)\n",
    "        return head\n",
    "        \n",
    "    def connect(self,node):\n",
    "        while node:\n",
    "            q=node.next\n",
    "            if not q : tail=node\n",
    "            if node.child:\n",
    "                node.next=node.child\n",
    "                node.child.prev=node\n",
    "                t=self.connect(node.child)\n",
    "                if q:\n",
    "                    q.prev=t\n",
    "                t.next=q\n",
    "                node.child=None\n",
    "            node=node.next\n",
    "        return tail"
   ]
  },
  {
   "cell_type": "code",
   "execution_count": null,
   "id": "5c1d4aac",
   "metadata": {},
   "outputs": [],
   "source": []
  }
 ],
 "metadata": {
  "kernelspec": {
   "display_name": "Python 3",
   "language": "python",
   "name": "python3"
  },
  "language_info": {
   "codemirror_mode": {
    "name": "ipython",
    "version": 3
   },
   "file_extension": ".py",
   "mimetype": "text/x-python",
   "name": "python",
   "nbconvert_exporter": "python",
   "pygments_lexer": "ipython3",
   "version": "3.7.10"
  }
 },
 "nbformat": 4,
 "nbformat_minor": 5
}
