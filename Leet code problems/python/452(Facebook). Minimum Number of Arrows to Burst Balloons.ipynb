{
 "cells": [
  {
   "cell_type": "code",
   "execution_count": 1,
   "id": "279b0bc7",
   "metadata": {},
   "outputs": [],
   "source": [
    "class Solution:\n",
    "    def findMinArrowShots(self, points):\n",
    "        points.sort(key=lambda x:x[1])\n",
    "        i=1\n",
    "        s=points[0]\n",
    "        for j in range(1,len(points)):\n",
    "            if points[j][0]>s[1]:\n",
    "                i=i+1\n",
    "                s=points[j]\n",
    "        return i        "
   ]
  },
  {
   "cell_type": "code",
   "execution_count": 2,
   "id": "f639ebd7",
   "metadata": {},
   "outputs": [],
   "source": [
    "s=Solution()"
   ]
  },
  {
   "cell_type": "code",
   "execution_count": 5,
   "id": "871b6054",
   "metadata": {},
   "outputs": [
    {
     "data": {
      "text/plain": [
       "2"
      ]
     },
     "execution_count": 5,
     "metadata": {},
     "output_type": "execute_result"
    }
   ],
   "source": [
    "s.findMinArrowShots([[0,3],[4,8],[6,9],[2,8],[7,10]])"
   ]
  },
  {
   "cell_type": "code",
   "execution_count": 4,
   "id": "6826a238",
   "metadata": {},
   "outputs": [],
   "source": [
    "#ref -> https://www.geeksforgeeks.org/activity-selection-problem-greedy-algo-1/"
   ]
  }
 ],
 "metadata": {
  "kernelspec": {
   "display_name": "Python 3",
   "language": "python",
   "name": "python3"
  },
  "language_info": {
   "codemirror_mode": {
    "name": "ipython",
    "version": 3
   },
   "file_extension": ".py",
   "mimetype": "text/x-python",
   "name": "python",
   "nbconvert_exporter": "python",
   "pygments_lexer": "ipython3",
   "version": "3.7.10"
  }
 },
 "nbformat": 4,
 "nbformat_minor": 5
}
