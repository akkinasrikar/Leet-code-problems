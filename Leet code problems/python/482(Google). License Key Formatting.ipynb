{
 "cells": [
  {
   "cell_type": "code",
   "execution_count": 1,
   "metadata": {},
   "outputs": [],
   "source": [
    "class Solution(object):\n",
    "    def licenseKeyFormatting(self, s, k):\n",
    "        s=s.replace(\"-\",\"\").upper()\n",
    "        n=l=len(s)\n",
    "        st=\"\"\n",
    "        for i in range(l//k):\n",
    "            temp=\"-\"+s[n-k:n]\n",
    "            st=temp+st\n",
    "            n=n-k\n",
    "        st=s[0:n]+st\n",
    "        if l%k==0:\n",
    "            return st[1:]\n",
    "        else:\n",
    "            return st[:]\n",
    "        "
   ]
  },
  {
   "cell_type": "code",
   "execution_count": 2,
   "metadata": {},
   "outputs": [],
   "source": [
    "s=Solution()"
   ]
  },
  {
   "cell_type": "code",
   "execution_count": 3,
   "metadata": {},
   "outputs": [
    {
     "data": {
      "text/plain": [
       "'25-G3J'"
      ]
     },
     "execution_count": 3,
     "metadata": {},
     "output_type": "execute_result"
    }
   ],
   "source": [
    "s.licenseKeyFormatting(\"2-5g-3-J\",3)"
   ]
  }
 ],
 "metadata": {
  "kernelspec": {
   "display_name": "Python 3",
   "language": "python",
   "name": "python3"
  },
  "language_info": {
   "codemirror_mode": {
    "name": "ipython",
    "version": 3
   },
   "file_extension": ".py",
   "mimetype": "text/x-python",
   "name": "python",
   "nbconvert_exporter": "python",
   "pygments_lexer": "ipython3",
   "version": "3.7.3"
  }
 },
 "nbformat": 4,
 "nbformat_minor": 2
}
