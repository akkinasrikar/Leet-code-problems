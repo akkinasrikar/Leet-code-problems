{
 "cells": [
  {
   "cell_type": "code",
   "execution_count": 1,
   "id": "a1325d21",
   "metadata": {},
   "outputs": [],
   "source": [
    "class Solution:\n",
    "    def spiralOrder(self, matrix):\n",
    "        n,m=len(matrix[0]),len(matrix)\n",
    "        #n->ending column\n",
    "        #m->ending row\n",
    "        #a->starting row\n",
    "        #b->starting column\n",
    "        t=[]\n",
    "        a,b=0,0\n",
    "        while(a<m and b<n):\n",
    "            for i in range(b,n):\n",
    "                t.append(matrix[a][i])\n",
    "            a+=1\n",
    "            for i in range(a,m):\n",
    "                t.append(matrix[i][n-1])\n",
    "            n-=1\n",
    "            if(a<m):\n",
    "                for i in range(n-1,b-1,-1):\n",
    "                    t.append(matrix[m-1][i])\n",
    "            m-=1\n",
    "            if(b<n):\n",
    "                for i in range(m-1,a-1,-1):\n",
    "                    t.append(matrix[i][b])\n",
    "            b+=1\n",
    "        return t        "
   ]
  },
  {
   "cell_type": "code",
   "execution_count": 2,
   "id": "fa4aa2e4",
   "metadata": {},
   "outputs": [],
   "source": [
    "s=Solution()"
   ]
  },
  {
   "cell_type": "code",
   "execution_count": 3,
   "id": "69329c62",
   "metadata": {},
   "outputs": [
    {
     "data": {
      "text/plain": [
       "[1, 2, 3, 6, 9, 8, 7, 4, 5]"
      ]
     },
     "execution_count": 3,
     "metadata": {},
     "output_type": "execute_result"
    }
   ],
   "source": [
    "s.spiralOrder([[1,2,3],[4,5,6],[7,8,9]])"
   ]
  },
  {
   "cell_type": "code",
   "execution_count": 4,
   "id": "b645c4ed",
   "metadata": {},
   "outputs": [],
   "source": [
    "m=[[1,2,3],[4,5,6],[7,8,9]]"
   ]
  },
  {
   "cell_type": "code",
   "execution_count": 5,
   "id": "d7c4bf89",
   "metadata": {},
   "outputs": [],
   "source": [
    "class Solution:\n",
    "    def spiralOrder(self, matrix):\n",
    "        t=[]\n",
    "        while matrix!=[]:\n",
    "            t=t+[*matrix.pop(0)]\n",
    "            matrix=[*zip(*matrix)][::-1]\n",
    "        return t"
   ]
  },
  {
   "cell_type": "code",
   "execution_count": 6,
   "id": "18910849",
   "metadata": {},
   "outputs": [],
   "source": [
    "s=Solution()"
   ]
  },
  {
   "cell_type": "code",
   "execution_count": 7,
   "id": "4d2de5c3",
   "metadata": {},
   "outputs": [
    {
     "data": {
      "text/plain": [
       "[1, 2, 3, 6, 9, 8, 7, 4, 5]"
      ]
     },
     "execution_count": 7,
     "metadata": {},
     "output_type": "execute_result"
    }
   ],
   "source": [
    "s.spiralOrder([[1,2,3],[4,5,6],[7,8,9]])"
   ]
  },
  {
   "cell_type": "code",
   "execution_count": null,
   "id": "cd432122",
   "metadata": {},
   "outputs": [],
   "source": []
  }
 ],
 "metadata": {
  "kernelspec": {
   "display_name": "Python 3",
   "language": "python",
   "name": "python3"
  },
  "language_info": {
   "codemirror_mode": {
    "name": "ipython",
    "version": 3
   },
   "file_extension": ".py",
   "mimetype": "text/x-python",
   "name": "python",
   "nbconvert_exporter": "python",
   "pygments_lexer": "ipython3",
   "version": "3.7.10"
  }
 },
 "nbformat": 4,
 "nbformat_minor": 5
}
