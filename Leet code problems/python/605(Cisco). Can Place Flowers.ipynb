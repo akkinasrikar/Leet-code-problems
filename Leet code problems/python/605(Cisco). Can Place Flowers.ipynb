{
 "cells": [
  {
   "cell_type": "code",
   "execution_count": 1,
   "id": "af35fc50",
   "metadata": {},
   "outputs": [],
   "source": [
    "class Solution:\n",
    "    def canPlaceFlowers(self, nums, n):\n",
    "        if len(nums)==1:\n",
    "            if nums[0]==1 and n==1: return False\n",
    "            elif nums[0]==1 and n==0: return True\n",
    "            elif nums[0]==0 and n==1: return True\n",
    "            elif nums[0]==0 and n==0: return True\n",
    "        if n>0:\n",
    "            if nums[0]==0 and nums[1]==0 and n>0:\n",
    "                nums[0]=1\n",
    "                n=n-1\n",
    "        for i in range(1,len(nums)-1):\n",
    "            if nums[i-1]!=1 and nums[i]==0 and nums[i+1]!=1 and n>0:\n",
    "                nums[i]=1\n",
    "                n=n-1\n",
    "        if nums[-1]==0 and nums[-2]==0 and n>0:\n",
    "            nums[-1]=1\n",
    "            n=n-1\n",
    "        if n==0: return True\n",
    "        return False"
   ]
  },
  {
   "cell_type": "code",
   "execution_count": 2,
   "id": "2c0969f8",
   "metadata": {},
   "outputs": [],
   "source": [
    "s=Solution()"
   ]
  },
  {
   "cell_type": "code",
   "execution_count": 3,
   "id": "1c5f87f2",
   "metadata": {},
   "outputs": [
    {
     "data": {
      "text/plain": [
       "True"
      ]
     },
     "execution_count": 3,
     "metadata": {},
     "output_type": "execute_result"
    }
   ],
   "source": [
    "s.canPlaceFlowers([0,0,1,0,0], n = 1)"
   ]
  },
  {
   "cell_type": "code",
   "execution_count": null,
   "id": "56a5d4fa",
   "metadata": {},
   "outputs": [],
   "source": []
  }
 ],
 "metadata": {
  "kernelspec": {
   "display_name": "Python 3",
   "language": "python",
   "name": "python3"
  },
  "language_info": {
   "codemirror_mode": {
    "name": "ipython",
    "version": 3
   },
   "file_extension": ".py",
   "mimetype": "text/x-python",
   "name": "python",
   "nbconvert_exporter": "python",
   "pygments_lexer": "ipython3",
   "version": "3.7.10"
  }
 },
 "nbformat": 4,
 "nbformat_minor": 5
}
