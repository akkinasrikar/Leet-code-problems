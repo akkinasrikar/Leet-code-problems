{
 "cells": [
  {
   "cell_type": "code",
   "execution_count": 5,
   "id": "32f2b3e8",
   "metadata": {},
   "outputs": [],
   "source": [
    "class Solution:\n",
    "    def judgeSquareSum(self, c):\n",
    "        values=[]\n",
    "        for i in range(0,c+1):\n",
    "            if i**2<=c:\n",
    "                values.append(i**2)\n",
    "            else:\n",
    "                break\n",
    "        values=values+values\n",
    "        s=set()\n",
    "        for i in range(0,len(values)):\n",
    "            temp=c-values[i]\n",
    "            if temp in s:\n",
    "                return True\n",
    "            s.add(values[i])\n",
    "        \n",
    "        return False\n",
    "        "
   ]
  },
  {
   "cell_type": "code",
   "execution_count": 6,
   "id": "27ac75a1",
   "metadata": {},
   "outputs": [],
   "source": [
    "s=Solution()"
   ]
  },
  {
   "cell_type": "code",
   "execution_count": 7,
   "id": "8b8e68f3",
   "metadata": {},
   "outputs": [
    {
     "data": {
      "text/plain": [
       "False"
      ]
     },
     "execution_count": 7,
     "metadata": {},
     "output_type": "execute_result"
    }
   ],
   "source": [
    "s.judgeSquareSum(3)"
   ]
  },
  {
   "cell_type": "code",
   "execution_count": null,
   "id": "a86033a5",
   "metadata": {},
   "outputs": [],
   "source": []
  }
 ],
 "metadata": {
  "kernelspec": {
   "display_name": "Python 3",
   "language": "python",
   "name": "python3"
  },
  "language_info": {
   "codemirror_mode": {
    "name": "ipython",
    "version": 3
   },
   "file_extension": ".py",
   "mimetype": "text/x-python",
   "name": "python",
   "nbconvert_exporter": "python",
   "pygments_lexer": "ipython3",
   "version": "3.7.10"
  }
 },
 "nbformat": 4,
 "nbformat_minor": 5
}
