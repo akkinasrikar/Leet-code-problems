{
 "cells": [
  {
   "cell_type": "code",
   "execution_count": null,
   "id": "726a2d93",
   "metadata": {},
   "outputs": [],
   "source": [
    "# Definition for a binary tree node.\n",
    "# class TreeNode:\n",
    "#     def __init__(self, val=0, left=None, right=None):\n",
    "#         self.val = val\n",
    "#         self.left = left\n",
    "#         self.right = right\n",
    "class Solution:\n",
    "\n",
    "    def findTarget(self, root: Optional[TreeNode], k: int) -> bool:\n",
    "        v=[]\n",
    "        self.getvalues(root,v)\n",
    "        b=self.check(v,k)\n",
    "        return b\n",
    "    \n",
    "    def getvalues(self,root,v):\n",
    "        if root!=None:\n",
    "            v.append(root.val)\n",
    "        if root.left:\n",
    "            self.getvalues(root.left,v)\n",
    "        if root.right:\n",
    "            self.getvalues(root.right,v)\n",
    "        return\n",
    "    \n",
    "    #**\n",
    "    def check(self,nums,k):\n",
    "        s=set()\n",
    "        for i in range(0,len(nums)):\n",
    "            temp=k-nums[i]\n",
    "            if temp in s:\n",
    "                return True\n",
    "                break\n",
    "            s.add(nums[i])\n",
    "        return False"
   ]
  }
 ],
 "metadata": {
  "kernelspec": {
   "display_name": "Python 3",
   "language": "python",
   "name": "python3"
  },
  "language_info": {
   "codemirror_mode": {
    "name": "ipython",
    "version": 3
   },
   "file_extension": ".py",
   "mimetype": "text/x-python",
   "name": "python",
   "nbconvert_exporter": "python",
   "pygments_lexer": "ipython3",
   "version": "3.7.10"
  }
 },
 "nbformat": 4,
 "nbformat_minor": 5
}
