{
 "cells": [
  {
   "cell_type": "code",
   "execution_count": 30,
   "id": "1afdf661",
   "metadata": {},
   "outputs": [],
   "source": [
    "class Solution:\n",
    "    def letterCasePermutation(self, s):\n",
    "        res=[]\n",
    "        self.dfs(list(s),[],res,len(s))\n",
    "        return res\n",
    "    def dfs(self,s,path,res,l):\n",
    "        if len(path)==l:\n",
    "            st=\"\".join(path)\n",
    "            res.append(st)\n",
    "            return\n",
    "        for i in range(len(s)):\n",
    "            if s[i].isalpha() and s[i].isupper()==False:\n",
    "                self.dfs(s[i+1:],path+[s[i].upper()],res,l)\n",
    "            if s[i].isalpha() and s[i].islower()==False:\n",
    "                self.dfs(s[i+1:],path+[s[i].lower()],res,l)\n",
    "            self.dfs(s[i+1:],path+[s[i]],res,l)   \n",
    "            \n",
    "        "
   ]
  },
  {
   "cell_type": "code",
   "execution_count": 31,
   "id": "a457fb37",
   "metadata": {},
   "outputs": [],
   "source": [
    "s=Solution()"
   ]
  },
  {
   "cell_type": "code",
   "execution_count": 35,
   "id": "4c5a7833",
   "metadata": {},
   "outputs": [
    {
     "data": {
      "text/plain": [
       "['a1B2', 'a1b2', 'A1B2', 'A1b2']"
      ]
     },
     "execution_count": 35,
     "metadata": {},
     "output_type": "execute_result"
    }
   ],
   "source": [
    "s.letterCasePermutation(\"A1b2\")"
   ]
  },
  {
   "cell_type": "code",
   "execution_count": null,
   "id": "c5390f75",
   "metadata": {},
   "outputs": [],
   "source": []
  }
 ],
 "metadata": {
  "kernelspec": {
   "display_name": "Python 3",
   "language": "python",
   "name": "python3"
  },
  "language_info": {
   "codemirror_mode": {
    "name": "ipython",
    "version": 3
   },
   "file_extension": ".py",
   "mimetype": "text/x-python",
   "name": "python",
   "nbconvert_exporter": "python",
   "pygments_lexer": "ipython3",
   "version": "3.7.10"
  }
 },
 "nbformat": 4,
 "nbformat_minor": 5
}
