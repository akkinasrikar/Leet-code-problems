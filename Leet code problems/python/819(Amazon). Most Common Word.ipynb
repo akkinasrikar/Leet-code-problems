{
 "cells": [
  {
   "cell_type": "code",
   "execution_count": 73,
   "metadata": {},
   "outputs": [],
   "source": [
    "class Solution:\n",
    "    def mostCommonWord(self, paragraph, banned):\n",
    "        paragraph=paragraph.lower()\n",
    "        punc = '''!()-[]{};:'\"\\, <>./?@#$%^&*_~'''\n",
    "        for l in paragraph:\n",
    "            if l in punc:\n",
    "                paragraph=paragraph.replace(l,\" \")\n",
    "        words=paragraph.split(\" \")\n",
    "        rt=self.counter(words,banned)\n",
    "        dist=dict(sorted(rt.items(), key=lambda item: item[1],reverse=True))\n",
    "        return list(dist.keys())[0]\n",
    "        \n",
    "    def counter(self,words,banned):\n",
    "        dct={}\n",
    "        st=set(words)\n",
    "        for i in st:\n",
    "            if i!='' and i not in banned:\n",
    "                temp=0\n",
    "                for j in words:\n",
    "                    if i==j:\n",
    "                        temp=temp+1\n",
    "                dct[i]=temp\n",
    "        return dct"
   ]
  },
  {
   "cell_type": "code",
   "execution_count": 74,
   "metadata": {},
   "outputs": [],
   "source": [
    "s=Solution()"
   ]
  },
  {
   "cell_type": "code",
   "execution_count": 75,
   "metadata": {},
   "outputs": [
    {
     "data": {
      "text/plain": [
       "'b'"
      ]
     },
     "execution_count": 75,
     "metadata": {},
     "output_type": "execute_result"
    }
   ],
   "source": [
    "s.mostCommonWord(\"a, a, a, a, b,b,b,c, c\",[\"a\"])"
   ]
  },
  {
   "cell_type": "code",
   "execution_count": 78,
   "metadata": {},
   "outputs": [],
   "source": [
    "s={1,2,''}"
   ]
  },
  {
   "cell_type": "code",
   "execution_count": 79,
   "metadata": {},
   "outputs": [],
   "source": [
    "s.remove('')"
   ]
  },
  {
   "cell_type": "code",
   "execution_count": 80,
   "metadata": {},
   "outputs": [
    {
     "data": {
      "text/plain": [
       "{1, 2}"
      ]
     },
     "execution_count": 80,
     "metadata": {},
     "output_type": "execute_result"
    }
   ],
   "source": [
    "s"
   ]
  },
  {
   "cell_type": "code",
   "execution_count": null,
   "metadata": {},
   "outputs": [],
   "source": []
  }
 ],
 "metadata": {
  "kernelspec": {
   "display_name": "Python 3",
   "language": "python",
   "name": "python3"
  },
  "language_info": {
   "codemirror_mode": {
    "name": "ipython",
    "version": 3
   },
   "file_extension": ".py",
   "mimetype": "text/x-python",
   "name": "python",
   "nbconvert_exporter": "python",
   "pygments_lexer": "ipython3",
   "version": "3.7.3"
  }
 },
 "nbformat": 4,
 "nbformat_minor": 2
}
