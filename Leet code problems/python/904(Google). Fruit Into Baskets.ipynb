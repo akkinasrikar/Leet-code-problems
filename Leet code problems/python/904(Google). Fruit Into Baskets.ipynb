{
 "cells": [
  {
   "cell_type": "code",
   "execution_count": 1,
   "id": "71ee6b3e",
   "metadata": {},
   "outputs": [],
   "source": [
    "class Solution:\n",
    "    def totalFruit(self, fruits):\n",
    "        temp=[]\n",
    "        tempdata=[]\n",
    "        res=[]\n",
    "        st=0\n",
    "        i=0\n",
    "        check=True\n",
    "        while i<len(fruits):\n",
    "            if len(temp)!=2 and fruits[i] not in temp:\n",
    "                temp.append(fruits[i])\n",
    "                check=True\n",
    "            elif len(temp)==2 and fruits[i] not in temp:\n",
    "                res.append(len(tempdata))\n",
    "                tn=i-1\n",
    "                while True:\n",
    "                    if fruits[tn]==fruits[tn-1]:\n",
    "                        tn=tn-1\n",
    "                    else:\n",
    "                        i=tn\n",
    "                        break\n",
    "                tempdata=[]\n",
    "                temp=[fruits[i]]\n",
    "                check=False\n",
    "            tempdata.append(fruits[i])\n",
    "            i += 1\n",
    "            #print(temp,tempdata,res)\n",
    "        if check==True:\n",
    "                res.append(len(tempdata))\n",
    "        #print(temp,tempdata,res)\n",
    "        return max(res)        "
   ]
  },
  {
   "cell_type": "code",
   "execution_count": 2,
   "id": "ec801c42",
   "metadata": {},
   "outputs": [],
   "source": [
    "s=Solution()"
   ]
  },
  {
   "cell_type": "code",
   "execution_count": 3,
   "id": "839009c4",
   "metadata": {},
   "outputs": [
    {
     "data": {
      "text/plain": [
       "5"
      ]
     },
     "execution_count": 3,
     "metadata": {},
     "output_type": "execute_result"
    }
   ],
   "source": [
    "s.totalFruit([3,3,3,1,2,1,1,2,3,3,4])"
   ]
  },
  {
   "cell_type": "code",
   "execution_count": null,
   "id": "1e965561",
   "metadata": {},
   "outputs": [],
   "source": []
  }
 ],
 "metadata": {
  "kernelspec": {
   "display_name": "Python 3",
   "language": "python",
   "name": "python3"
  },
  "language_info": {
   "codemirror_mode": {
    "name": "ipython",
    "version": 3
   },
   "file_extension": ".py",
   "mimetype": "text/x-python",
   "name": "python",
   "nbconvert_exporter": "python",
   "pygments_lexer": "ipython3",
   "version": "3.8.8"
  }
 },
 "nbformat": 4,
 "nbformat_minor": 5
}
