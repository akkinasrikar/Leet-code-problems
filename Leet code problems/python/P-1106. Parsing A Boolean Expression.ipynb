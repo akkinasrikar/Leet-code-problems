{
 "cells": [
  {
   "cell_type": "code",
   "execution_count": 1,
   "id": "c5d4890a",
   "metadata": {},
   "outputs": [],
   "source": [
    "class Solution:\n",
    "    def parseBoolExpr(self, expression):\n",
    "        l=len(expression)\n",
    "        for i in range(l):\n",
    "            if expression[i]==\"(\": st=i\n",
    "            if expression[i]==\")\":\n",
    "                en=i\n",
    "                break\n",
    "        op=expression[st-1]\n",
    "        if op==\"&\": v=self.And(expression[st:en+1])\n",
    "        if op==\"|\": v=self.Nor(expression[st:en+1])\n",
    "        if op==\"!\": v=self.Not(expression[st:en+1])\n",
    "        expression=expression[:st-1]+v+expression[en+1:]\n",
    "        if expression==\"f\": return False\n",
    "        if expression==\"t\": return True\n",
    "        else: return self.parseBoolExpr(expression)\n",
    "    \n",
    "    def Not(self,exp):\n",
    "        if \"t\" in exp: return \"f\"\n",
    "        return \"t\"\n",
    "    def Nor(self,exp):\n",
    "        if \"t\" in exp: return \"t\"\n",
    "        return \"f\"\n",
    "    def And(self,exp):\n",
    "        if \"f\" in exp: return \"f\"\n",
    "        return \"t\"\n",
    "        \n",
    "        "
   ]
  },
  {
   "cell_type": "code",
   "execution_count": 2,
   "id": "7b4060c7",
   "metadata": {},
   "outputs": [],
   "source": [
    "s=Solution()"
   ]
  },
  {
   "cell_type": "code",
   "execution_count": 3,
   "id": "757441d4",
   "metadata": {},
   "outputs": [
    {
     "data": {
      "text/plain": [
       "False"
      ]
     },
     "execution_count": 3,
     "metadata": {},
     "output_type": "execute_result"
    }
   ],
   "source": [
    "s.parseBoolExpr(\"|(&(t,f,t),!(t))\")"
   ]
  },
  {
   "cell_type": "code",
   "execution_count": 4,
   "id": "b4be286f",
   "metadata": {},
   "outputs": [],
   "source": [
    "def parseBoolExpr(S, t=True, f=False):\n",
    "    s=S.replace('!', 'not |').replace('&(', 'all([').replace('|(', 'any([').replace(')', '])')\n",
    "    print(s)\n",
    "    return eval(s)"
   ]
  },
  {
   "cell_type": "code",
   "execution_count": 5,
   "id": "c1bdd730",
   "metadata": {},
   "outputs": [
    {
     "name": "stdout",
     "output_type": "stream",
     "text": [
      "any([all([t,f,t]),not any([t])])\n"
     ]
    },
    {
     "data": {
      "text/plain": [
       "False"
      ]
     },
     "execution_count": 5,
     "metadata": {},
     "output_type": "execute_result"
    }
   ],
   "source": [
    "parseBoolExpr(\"|(&(t,f,t),!(t))\")"
   ]
  },
  {
   "cell_type": "code",
   "execution_count": null,
   "id": "e59221d3",
   "metadata": {},
   "outputs": [],
   "source": []
  }
 ],
 "metadata": {
  "kernelspec": {
   "display_name": "Python 3",
   "language": "python",
   "name": "python3"
  },
  "language_info": {
   "codemirror_mode": {
    "name": "ipython",
    "version": 3
   },
   "file_extension": ".py",
   "mimetype": "text/x-python",
   "name": "python",
   "nbconvert_exporter": "python",
   "pygments_lexer": "ipython3",
   "version": "3.7.10"
  }
 },
 "nbformat": 4,
 "nbformat_minor": 5
}
