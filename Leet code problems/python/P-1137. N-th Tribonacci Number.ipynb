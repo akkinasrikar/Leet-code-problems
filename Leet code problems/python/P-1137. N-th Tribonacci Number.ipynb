{
 "cells": [
  {
   "cell_type": "code",
   "execution_count": 7,
   "id": "ab568a0a",
   "metadata": {},
   "outputs": [],
   "source": [
    "#taking lot of time\n",
    "class Solution:\n",
    "    def tribonacci(self, n):\n",
    "        if n==0: return 0\n",
    "        if n==1 or n==2: return 1\n",
    "        else: return self.tribonacci(n-1)+self.tribonacci(n-2)+self.tribonacci(n-3)"
   ]
  },
  {
   "cell_type": "code",
   "execution_count": 8,
   "id": "ac9c47d7",
   "metadata": {},
   "outputs": [],
   "source": [
    "s=Solution()"
   ]
  },
  {
   "cell_type": "code",
   "execution_count": 9,
   "id": "e9cee86a",
   "metadata": {},
   "outputs": [
    {
     "data": {
      "text/plain": [
       "1389537"
      ]
     },
     "execution_count": 9,
     "metadata": {},
     "output_type": "execute_result"
    }
   ],
   "source": [
    "s.tribonacci(25)"
   ]
  },
  {
   "cell_type": "code",
   "execution_count": 16,
   "id": "192e1184",
   "metadata": {},
   "outputs": [],
   "source": [
    "class Solution:\n",
    "    def tribonacci(self, n):\n",
    "        a,b,c=1,0,0\n",
    "        for i in range(n):\n",
    "            a,b,c=b,c,a+b+c\n",
    "        return c"
   ]
  },
  {
   "cell_type": "code",
   "execution_count": 17,
   "id": "0d0b6bb3",
   "metadata": {},
   "outputs": [],
   "source": [
    "s=Solution()"
   ]
  },
  {
   "cell_type": "code",
   "execution_count": 18,
   "id": "89885b56",
   "metadata": {},
   "outputs": [
    {
     "name": "stdout",
     "output_type": "stream",
     "text": [
      "1 0 0\n",
      "0 0 1\n",
      "0 1 1\n",
      "1 1 2\n",
      "1 2 4\n"
     ]
    },
    {
     "data": {
      "text/plain": [
       "7"
      ]
     },
     "execution_count": 18,
     "metadata": {},
     "output_type": "execute_result"
    }
   ],
   "source": [
    "s.tribonacci(5)"
   ]
  },
  {
   "cell_type": "code",
   "execution_count": null,
   "id": "b3d20528",
   "metadata": {},
   "outputs": [],
   "source": []
  }
 ],
 "metadata": {
  "kernelspec": {
   "display_name": "Python 3",
   "language": "python",
   "name": "python3"
  },
  "language_info": {
   "codemirror_mode": {
    "name": "ipython",
    "version": 3
   },
   "file_extension": ".py",
   "mimetype": "text/x-python",
   "name": "python",
   "nbconvert_exporter": "python",
   "pygments_lexer": "ipython3",
   "version": "3.7.10"
  }
 },
 "nbformat": 4,
 "nbformat_minor": 5
}
