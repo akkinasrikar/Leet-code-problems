{
 "cells": [
  {
   "cell_type": "code",
   "execution_count": 1,
   "id": "9b4fbae6",
   "metadata": {},
   "outputs": [],
   "source": [
    "class Solution:\n",
    "    def maxLength(self, arr):\n",
    "        res=[]\n",
    "        l=len(\"\".join(arr))\n",
    "        self.dfs(arr,[],res,l)\n",
    "        return max(res)\n",
    "    def dfs(self,arr,path,res,l):\n",
    "        w=\"\".join(path)\n",
    "        if len(set(w))==len(w):\n",
    "            res.append(len(w))\n",
    "        if len(w)==l:\n",
    "            return\n",
    "        for i in range(len(arr)):\n",
    "            self.dfs(arr[i+1:],path+[arr[i]],res,l)\n",
    "        "
   ]
  },
  {
   "cell_type": "code",
   "execution_count": 2,
   "id": "7e08eb4d",
   "metadata": {},
   "outputs": [],
   "source": [
    "s=Solution()"
   ]
  },
  {
   "cell_type": "code",
   "execution_count": 3,
   "id": "76a94bdf",
   "metadata": {},
   "outputs": [
    {
     "data": {
      "text/plain": [
       "0"
      ]
     },
     "execution_count": 3,
     "metadata": {},
     "output_type": "execute_result"
    }
   ],
   "source": [
    "s.maxLength( [])"
   ]
  },
  {
   "cell_type": "code",
   "execution_count": null,
   "id": "ca22843f",
   "metadata": {},
   "outputs": [],
   "source": []
  },
  {
   "cell_type": "code",
   "execution_count": null,
   "id": "2a87bf08",
   "metadata": {},
   "outputs": [],
   "source": []
  }
 ],
 "metadata": {
  "kernelspec": {
   "display_name": "Python 3",
   "language": "python",
   "name": "python3"
  },
  "language_info": {
   "codemirror_mode": {
    "name": "ipython",
    "version": 3
   },
   "file_extension": ".py",
   "mimetype": "text/x-python",
   "name": "python",
   "nbconvert_exporter": "python",
   "pygments_lexer": "ipython3",
   "version": "3.8.8"
  }
 },
 "nbformat": 4,
 "nbformat_minor": 5
}
