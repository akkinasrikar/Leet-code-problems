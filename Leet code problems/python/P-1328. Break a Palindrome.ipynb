{
 "cells": [
  {
   "cell_type": "code",
   "execution_count": 1,
   "id": "a41e6e7d",
   "metadata": {},
   "outputs": [],
   "source": [
    "class Solution:\n",
    "    def breakPalindrome(self, palindrome):\n",
    "        if len(palindrome)==1:\n",
    "            return \"\"\n",
    "        for i in range(len(palindrome)):\n",
    "            temp=palindrome\n",
    "            if ord(palindrome[i])>ord(\"a\"):\n",
    "                temp=temp[:i]+\"a\"+temp[i+1:]\n",
    "                if self.check(temp)==False:\n",
    "                    return temp\n",
    "            elif ord(palindrome[i])==ord(\"a\") and i==len(palindrome)-1:\n",
    "                temp=temp[:i]+\"b\"\n",
    "                return temp\n",
    "                \n",
    "    def check(self,s):\n",
    "        if s==s[::-1]:\n",
    "            return True\n",
    "        return False\n",
    "        "
   ]
  },
  {
   "cell_type": "code",
   "execution_count": 2,
   "id": "b6a54787",
   "metadata": {},
   "outputs": [],
   "source": [
    "s=Solution()"
   ]
  },
  {
   "cell_type": "code",
   "execution_count": 3,
   "id": "be66c61b",
   "metadata": {},
   "outputs": [
    {
     "data": {
      "text/plain": [
       "'abb'"
      ]
     },
     "execution_count": 3,
     "metadata": {},
     "output_type": "execute_result"
    }
   ],
   "source": [
    "s.breakPalindrome(\"aba\")"
   ]
  },
  {
   "cell_type": "code",
   "execution_count": null,
   "id": "26cf824a",
   "metadata": {},
   "outputs": [],
   "source": []
  }
 ],
 "metadata": {
  "kernelspec": {
   "display_name": "Python 3",
   "language": "python",
   "name": "python3"
  },
  "language_info": {
   "codemirror_mode": {
    "name": "ipython",
    "version": 3
   },
   "file_extension": ".py",
   "mimetype": "text/x-python",
   "name": "python",
   "nbconvert_exporter": "python",
   "pygments_lexer": "ipython3",
   "version": "3.8.8"
  }
 },
 "nbformat": 4,
 "nbformat_minor": 5
}
