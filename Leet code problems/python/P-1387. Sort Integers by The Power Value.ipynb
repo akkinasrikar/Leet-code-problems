{
 "cells": [
  {
   "cell_type": "code",
   "execution_count": 1,
   "id": "e4991dbd",
   "metadata": {},
   "outputs": [],
   "source": [
    "class Solution:\n",
    "    def getKth(self,lo,hi,k):\n",
    "        numbers=[]\n",
    "        for i in range(lo,hi+1):\n",
    "            res=[0]\n",
    "            self.getsteps(i,res)\n",
    "            numbers.append([i,res[0]])\n",
    "        numbers.sort(key = lambda x:x[1])\n",
    "        return numbers[k-1][0]\n",
    "    def getsteps(self,number,res):\n",
    "        if number==1:\n",
    "            return\n",
    "        if number%2==0:\n",
    "            res[0] += 1\n",
    "            self.getsteps(number/2,res)\n",
    "        else:\n",
    "            res[0] += 1\n",
    "            self.getsteps(3*number+1,res)\n",
    "        \n",
    "        "
   ]
  },
  {
   "cell_type": "code",
   "execution_count": 2,
   "id": "3842f5e9",
   "metadata": {},
   "outputs": [],
   "source": [
    "s=Solution()"
   ]
  },
  {
   "cell_type": "code",
   "execution_count": 3,
   "id": "94942919",
   "metadata": {},
   "outputs": [
    {
     "data": {
      "text/plain": [
       "13"
      ]
     },
     "execution_count": 3,
     "metadata": {},
     "output_type": "execute_result"
    }
   ],
   "source": [
    "s.getKth(12,15,2)"
   ]
  },
  {
   "cell_type": "code",
   "execution_count": null,
   "id": "2fdcdd55",
   "metadata": {},
   "outputs": [],
   "source": []
  },
  {
   "cell_type": "code",
   "execution_count": null,
   "id": "14a2bd25",
   "metadata": {},
   "outputs": [],
   "source": []
  }
 ],
 "metadata": {
  "kernelspec": {
   "display_name": "Python 3",
   "language": "python",
   "name": "python3"
  },
  "language_info": {
   "codemirror_mode": {
    "name": "ipython",
    "version": 3
   },
   "file_extension": ".py",
   "mimetype": "text/x-python",
   "name": "python",
   "nbconvert_exporter": "python",
   "pygments_lexer": "ipython3",
   "version": "3.7.10"
  }
 },
 "nbformat": 4,
 "nbformat_minor": 5
}
