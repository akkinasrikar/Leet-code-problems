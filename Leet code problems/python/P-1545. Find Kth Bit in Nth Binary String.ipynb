{
 "cells": [
  {
   "cell_type": "code",
   "execution_count": 1,
   "id": "bd9a5ebe",
   "metadata": {},
   "outputs": [],
   "source": [
    "class Solution:\n",
    "    def findKthBit(self, n,k):\n",
    "        res=self.Si(\"0\",n)\n",
    "        return res[k-1]\n",
    "    def Si(self,s,n):\n",
    "        if n==1: return s\n",
    "        else:\n",
    "            s=s+\"1\"+self.invert(s)[::-1]\n",
    "            return self.Si(s,n-1)\n",
    "    def invert(self,bn):\n",
    "        r=\"\"\n",
    "        for i in bn:\n",
    "            if i==\"0\": r=r+\"1\"\n",
    "            else: r=r+\"0\"\n",
    "        return r"
   ]
  },
  {
   "cell_type": "code",
   "execution_count": null,
   "id": "c0df310b",
   "metadata": {},
   "outputs": [],
   "source": []
  }
 ],
 "metadata": {
  "kernelspec": {
   "display_name": "Python 3",
   "language": "python",
   "name": "python3"
  },
  "language_info": {
   "codemirror_mode": {
    "name": "ipython",
    "version": 3
   },
   "file_extension": ".py",
   "mimetype": "text/x-python",
   "name": "python",
   "nbconvert_exporter": "python",
   "pygments_lexer": "ipython3",
   "version": "3.7.10"
  }
 },
 "nbformat": 4,
 "nbformat_minor": 5
}
