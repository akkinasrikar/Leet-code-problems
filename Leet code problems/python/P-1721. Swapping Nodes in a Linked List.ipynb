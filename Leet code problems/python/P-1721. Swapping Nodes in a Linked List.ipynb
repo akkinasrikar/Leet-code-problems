{
 "cells": [
  {
   "cell_type": "code",
   "execution_count": null,
   "metadata": {},
   "outputs": [],
   "source": [
    "class ListNode:\n",
    "    def __init__(self, val=0, next=None):\n",
    "        self.val = val\n",
    "        self.next = next\n",
    "class Solution:\n",
    "    def swapNodes(self, head,k):\n",
    "        nd=self.getnodes(head,{},c)\n",
    "        l=len(nd)\n",
    "        temp=nd[l-k+1]\n",
    "        nd[l-k+1]=nd[k]\n",
    "        nd[k]=temp\n",
    "        for i in list(nd.keys())[:-1]:\n",
    "            nd[i].next=nd[i+1]\n",
    "        nd[l].next=None\n",
    "        return nd[1]\n",
    "\n",
    "    def getnodes(self,node,res,c):\n",
    "        if node!=None:\n",
    "            res[c]=node\n",
    "            c=c+1\n",
    "            self.getnodes(node.next,res)\n",
    "        return res\n",
    "            \n",
    "        "
   ]
  },
  {
   "cell_type": "code",
   "execution_count": null,
   "metadata": {},
   "outputs": [],
   "source": []
  },
  {
   "cell_type": "code",
   "execution_count": null,
   "metadata": {},
   "outputs": [],
   "source": []
  },
  {
   "cell_type": "code",
   "execution_count": null,
   "metadata": {},
   "outputs": [],
   "source": []
  }
 ],
 "metadata": {
  "kernelspec": {
   "display_name": "Python 3",
   "language": "python",
   "name": "python3"
  },
  "language_info": {
   "codemirror_mode": {
    "name": "ipython",
    "version": 3
   },
   "file_extension": ".py",
   "mimetype": "text/x-python",
   "name": "python",
   "nbconvert_exporter": "python",
   "pygments_lexer": "ipython3",
   "version": "3.7.3"
  }
 },
 "nbformat": 4,
 "nbformat_minor": 2
}
