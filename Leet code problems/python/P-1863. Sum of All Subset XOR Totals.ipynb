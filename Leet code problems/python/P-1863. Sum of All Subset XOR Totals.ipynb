{
 "cells": [
  {
   "cell_type": "code",
   "execution_count": 1,
   "id": "82438954",
   "metadata": {},
   "outputs": [],
   "source": [
    "class Solution:\n",
    "    def subsetXORSum(self, nums):\n",
    "        res=[]\n",
    "        self.dfs(sorted(nums),[],res,len(nums))\n",
    "        return sum(list(map(self.xor,res)))\n",
    "    def xor(self,n):\n",
    "        if len(n)==1: return n[0]\n",
    "        s=0\n",
    "        for i in n:\n",
    "            s=s^i\n",
    "        return s\n",
    "    def dfs(self,nums,path,res,l):\n",
    "        if len(path)==l: \n",
    "            res.append(path)\n",
    "            return\n",
    "        res.append(path)\n",
    "        for i in range(len(nums)):\n",
    "            self.dfs(nums[i+1:],path+[nums[i]],res,l)"
   ]
  },
  {
   "cell_type": "code",
   "execution_count": 2,
   "id": "8fd1203e",
   "metadata": {},
   "outputs": [],
   "source": [
    "s=Solution()"
   ]
  },
  {
   "cell_type": "code",
   "execution_count": 3,
   "id": "af2ed2dd",
   "metadata": {},
   "outputs": [
    {
     "data": {
      "text/plain": [
       "480"
      ]
     },
     "execution_count": 3,
     "metadata": {},
     "output_type": "execute_result"
    }
   ],
   "source": [
    "s.subsetXORSum([3,4,5,6,7,8])"
   ]
  },
  {
   "cell_type": "code",
   "execution_count": null,
   "id": "2a2e15ee",
   "metadata": {},
   "outputs": [],
   "source": []
  }
 ],
 "metadata": {
  "kernelspec": {
   "display_name": "Python 3",
   "language": "python",
   "name": "python3"
  },
  "language_info": {
   "codemirror_mode": {
    "name": "ipython",
    "version": 3
   },
   "file_extension": ".py",
   "mimetype": "text/x-python",
   "name": "python",
   "nbconvert_exporter": "python",
   "pygments_lexer": "ipython3",
   "version": "3.7.10"
  }
 },
 "nbformat": 4,
 "nbformat_minor": 5
}
