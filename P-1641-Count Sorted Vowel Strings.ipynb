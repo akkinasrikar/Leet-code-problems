{
 "cells": [
  {
   "cell_type": "code",
   "execution_count": 1,
   "id": "a4c47a21",
   "metadata": {},
   "outputs": [],
   "source": [
    "class Solution:\n",
    "    def __init__(self):\n",
    "        self.res = 0\n",
    "    def countVowelStrings(self, n):\n",
    "        self.dfs([\"a\",\"e\",\"i\",\"o\",\"u\"],[],n)\n",
    "        return self.res\n",
    "    \n",
    "    def dfs(self,v,path,n):\n",
    "        if len(path)==n:\n",
    "            self.res += 1\n",
    "            return\n",
    "        for i in range(len(v)):\n",
    "            self.dfs(v[i:],path+[v[i]],n)\n",
    "            "
   ]
  },
  {
   "cell_type": "code",
   "execution_count": 2,
   "id": "6952e4b2",
   "metadata": {},
   "outputs": [],
   "source": [
    "s=Solution()"
   ]
  },
  {
   "cell_type": "code",
   "execution_count": 3,
   "id": "ebae3e2a",
   "metadata": {},
   "outputs": [
    {
     "data": {
      "text/plain": [
       "126"
      ]
     },
     "execution_count": 3,
     "metadata": {},
     "output_type": "execute_result"
    }
   ],
   "source": [
    "s.countVowelStrings(5)"
   ]
  },
  {
   "cell_type": "code",
   "execution_count": 4,
   "id": "fd66a76f",
   "metadata": {},
   "outputs": [],
   "source": [
    "class Solution:\n",
    "    def countVowelStrings(self, n):\n",
    "        res = [i for i in range(5,0,-1)]\n",
    "        temp=[0]*5\n",
    "        for i in range(n-1):\n",
    "            for j in range(5):\n",
    "                temp[j] = sum(res[j:])\n",
    "            res=temp\n",
    "        return res[0]       \n",
    "        "
   ]
  },
  {
   "cell_type": "code",
   "execution_count": 5,
   "id": "42fa9a9a",
   "metadata": {},
   "outputs": [],
   "source": [
    "s=Solution()"
   ]
  },
  {
   "cell_type": "code",
   "execution_count": 6,
   "id": "bed47672",
   "metadata": {},
   "outputs": [
    {
     "data": {
      "text/plain": [
       "126"
      ]
     },
     "execution_count": 6,
     "metadata": {},
     "output_type": "execute_result"
    }
   ],
   "source": [
    "s.countVowelStrings(5)"
   ]
  },
  {
   "cell_type": "code",
   "execution_count": null,
   "id": "892005b6",
   "metadata": {},
   "outputs": [],
   "source": []
  }
 ],
 "metadata": {
  "kernelspec": {
   "display_name": "Python 3",
   "language": "python",
   "name": "python3"
  },
  "language_info": {
   "codemirror_mode": {
    "name": "ipython",
    "version": 3
   },
   "file_extension": ".py",
   "mimetype": "text/x-python",
   "name": "python",
   "nbconvert_exporter": "python",
   "pygments_lexer": "ipython3",
   "version": "3.7.10"
  }
 },
 "nbformat": 4,
 "nbformat_minor": 5
}
